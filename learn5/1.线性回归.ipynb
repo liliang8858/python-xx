{
 "cells": [
  {
   "cell_type": "markdown",
   "metadata": {},
   "source": [
    "使用的数据集是 scikit-learn 自带的一个糖尿病人的数据集\n",
    "特点：  \n",
    " 1. 数据集有 442 个样本\n",
    " 2. 每个样本有10个特征\n",
    " 3. 每个特征都是浮点数，数据都在 -0.2~0.2 之间\n",
    " 4. 样本的目标在证书 25~346 之间"
   ]
  },
  {
   "cell_type": "code",
   "execution_count": 6,
   "metadata": {},
   "outputs": [],
   "source": [
    "import matplotlib.pyplot as plt"
   ]
  },
  {
   "cell_type": "code",
   "execution_count": 9,
   "metadata": {},
   "outputs": [],
   "source": [
    "import numpy as np"
   ]
  },
  {
   "cell_type": "code",
   "execution_count": 10,
   "metadata": {},
   "outputs": [],
   "source": [
    "from sklearn import datasets,linear_model,discriminant_analysis,cross_validation"
   ]
  },
  {
   "cell_type": "code",
   "execution_count": 11,
   "metadata": {},
   "outputs": [],
   "source": [
    "def load_data():\n",
    "    # 加载数据集\n",
    "    diabets = datasets.load_diabetes()\n",
    "    print(diabets)\n",
    "    return cross_validation.train_test_split(diabets.data,diabets.target,test_size=0.25,random_state=0)"
   ]
  },
  {
   "cell_type": "code",
   "execution_count": 12,
   "metadata": {},
   "outputs": [],
   "source": [
    "def test_linearRegression(*data):\n",
    "    X_train,X_test,y_train,y_test=data\n",
    "    regr = linear_model.LinearRegression()\n",
    "    print(regr)\n",
    "    regr.fit(X_train,y_train)\n",
    "    print('Coefficients:%s,intercetp:%.2f'%(regr.coef_,regr.intercept_))\n",
    "    print('Residual sum of squares: %.2f'%np.mean((regr.predict(X_test) - y_test) ** 2))\n",
    "    print('Score: %.2f'%regr.score(X_test,y_test))"
   ]
  },
  {
   "cell_type": "code",
   "execution_count": 13,
   "metadata": {},
   "outputs": [
    {
     "name": "stdout",
     "output_type": "stream",
     "text": [
      "{'data': array([[ 0.03807591,  0.05068012,  0.06169621, ..., -0.00259226,\n",
      "         0.01990842, -0.01764613],\n",
      "       [-0.00188202, -0.04464164, -0.05147406, ..., -0.03949338,\n",
      "        -0.06832974, -0.09220405],\n",
      "       [ 0.08529891,  0.05068012,  0.04445121, ..., -0.00259226,\n",
      "         0.00286377, -0.02593034],\n",
      "       ...,\n",
      "       [ 0.04170844,  0.05068012, -0.01590626, ..., -0.01107952,\n",
      "        -0.04687948,  0.01549073],\n",
      "       [-0.04547248, -0.04464164,  0.03906215, ...,  0.02655962,\n",
      "         0.04452837, -0.02593034],\n",
      "       [-0.04547248, -0.04464164, -0.0730303 , ..., -0.03949338,\n",
      "        -0.00421986,  0.00306441]]), 'target': array([151.,  75., 141., 206., 135.,  97., 138.,  63., 110., 310., 101.,\n",
      "        69., 179., 185., 118., 171., 166., 144.,  97., 168.,  68.,  49.,\n",
      "        68., 245., 184., 202., 137.,  85., 131., 283., 129.,  59., 341.,\n",
      "        87.,  65., 102., 265., 276., 252.,  90., 100.,  55.,  61.,  92.,\n",
      "       259.,  53., 190., 142.,  75., 142., 155., 225.,  59., 104., 182.,\n",
      "       128.,  52.,  37., 170., 170.,  61., 144.,  52., 128.,  71., 163.,\n",
      "       150.,  97., 160., 178.,  48., 270., 202., 111.,  85.,  42., 170.,\n",
      "       200., 252., 113., 143.,  51.,  52., 210.,  65., 141.,  55., 134.,\n",
      "        42., 111.,  98., 164.,  48.,  96.,  90., 162., 150., 279.,  92.,\n",
      "        83., 128., 102., 302., 198.,  95.,  53., 134., 144., 232.,  81.,\n",
      "       104.,  59., 246., 297., 258., 229., 275., 281., 179., 200., 200.,\n",
      "       173., 180.,  84., 121., 161.,  99., 109., 115., 268., 274., 158.,\n",
      "       107.,  83., 103., 272.,  85., 280., 336., 281., 118., 317., 235.,\n",
      "        60., 174., 259., 178., 128.,  96., 126., 288.,  88., 292.,  71.,\n",
      "       197., 186.,  25.,  84.,  96., 195.,  53., 217., 172., 131., 214.,\n",
      "        59.,  70., 220., 268., 152.,  47.,  74., 295., 101., 151., 127.,\n",
      "       237., 225.,  81., 151., 107.,  64., 138., 185., 265., 101., 137.,\n",
      "       143., 141.,  79., 292., 178.,  91., 116.,  86., 122.,  72., 129.,\n",
      "       142.,  90., 158.,  39., 196., 222., 277.,  99., 196., 202., 155.,\n",
      "        77., 191.,  70.,  73.,  49.,  65., 263., 248., 296., 214., 185.,\n",
      "        78.,  93., 252., 150.,  77., 208.,  77., 108., 160.,  53., 220.,\n",
      "       154., 259.,  90., 246., 124.,  67.,  72., 257., 262., 275., 177.,\n",
      "        71.,  47., 187., 125.,  78.,  51., 258., 215., 303., 243.,  91.,\n",
      "       150., 310., 153., 346.,  63.,  89.,  50.,  39., 103., 308., 116.,\n",
      "       145.,  74.,  45., 115., 264.,  87., 202., 127., 182., 241.,  66.,\n",
      "        94., 283.,  64., 102., 200., 265.,  94., 230., 181., 156., 233.,\n",
      "        60., 219.,  80.,  68., 332., 248.,  84., 200.,  55.,  85.,  89.,\n",
      "        31., 129.,  83., 275.,  65., 198., 236., 253., 124.,  44., 172.,\n",
      "       114., 142., 109., 180., 144., 163., 147.,  97., 220., 190., 109.,\n",
      "       191., 122., 230., 242., 248., 249., 192., 131., 237.,  78., 135.,\n",
      "       244., 199., 270., 164.,  72.,  96., 306.,  91., 214.,  95., 216.,\n",
      "       263., 178., 113., 200., 139., 139.,  88., 148.,  88., 243.,  71.,\n",
      "        77., 109., 272.,  60.,  54., 221.,  90., 311., 281., 182., 321.,\n",
      "        58., 262., 206., 233., 242., 123., 167.,  63., 197.,  71., 168.,\n",
      "       140., 217., 121., 235., 245.,  40.,  52., 104., 132.,  88.,  69.,\n",
      "       219.,  72., 201., 110.,  51., 277.,  63., 118.,  69., 273., 258.,\n",
      "        43., 198., 242., 232., 175.,  93., 168., 275., 293., 281.,  72.,\n",
      "       140., 189., 181., 209., 136., 261., 113., 131., 174., 257.,  55.,\n",
      "        84.,  42., 146., 212., 233.,  91., 111., 152., 120.,  67., 310.,\n",
      "        94., 183.,  66., 173.,  72.,  49.,  64.,  48., 178., 104., 132.,\n",
      "       220.,  57.]), 'DESCR': 'Diabetes dataset\\n================\\n\\nNotes\\n-----\\n\\nTen baseline variables, age, sex, body mass index, average blood\\npressure, and six blood serum measurements were obtained for each of n =\\n442 diabetes patients, as well as the response of interest, a\\nquantitative measure of disease progression one year after baseline.\\n\\nData Set Characteristics:\\n\\n  :Number of Instances: 442\\n\\n  :Number of Attributes: First 10 columns are numeric predictive values\\n\\n  :Target: Column 11 is a quantitative measure of disease progression one year after baseline\\n\\n  :Attributes:\\n    :Age:\\n    :Sex:\\n    :Body mass index:\\n    :Average blood pressure:\\n    :S1:\\n    :S2:\\n    :S3:\\n    :S4:\\n    :S5:\\n    :S6:\\n\\nNote: Each of these 10 feature variables have been mean centered and scaled by the standard deviation times `n_samples` (i.e. the sum of squares of each column totals 1).\\n\\nSource URL:\\nhttp://www4.stat.ncsu.edu/~boos/var.select/diabetes.html\\n\\nFor more information see:\\nBradley Efron, Trevor Hastie, Iain Johnstone and Robert Tibshirani (2004) \"Least Angle Regression,\" Annals of Statistics (with discussion), 407-499.\\n(http://web.stanford.edu/~hastie/Papers/LARS/LeastAngle_2002.pdf)\\n', 'feature_names': ['age', 'sex', 'bmi', 'bp', 's1', 's2', 's3', 's4', 's5', 's6']}\n"
     ]
    }
   ],
   "source": [
    "X_train,X_test,y_train,y_test=load_data()"
   ]
  },
  {
   "cell_type": "code",
   "execution_count": 14,
   "metadata": {},
   "outputs": [
    {
     "name": "stdout",
     "output_type": "stream",
     "text": [
      "[321. 215. 127.  64. 175. 275. 179. 232. 142.  99. 252. 174. 129.  74.\n",
      " 264.  49.  86.  75. 101. 155. 170. 276. 110. 136.  68. 128. 103.  93.\n",
      " 191. 196. 217. 181. 168. 200. 219. 281. 151. 257.  49. 198.  96. 179.\n",
      "  95. 198. 244.  89. 214. 182.  84. 270. 156. 138. 113. 131. 195. 171.\n",
      " 122.  61. 230. 235.  52. 121. 144. 107. 132. 302.  53. 317. 137.  57.\n",
      "  98. 170.  88.  90.  67. 163. 104. 186. 180. 283. 141. 150.  47. 297.\n",
      " 104.  49. 103. 142.  59.  85. 137.  53.  51. 197. 135.  72. 208. 237.\n",
      " 145. 110. 292.  97. 197. 158. 163.  63. 192. 233.  68. 160. 178.]\n"
     ]
    }
   ],
   "source": [
    "print(y_test)"
   ]
  },
  {
   "cell_type": "code",
   "execution_count": 15,
   "metadata": {},
   "outputs": [
    {
     "name": "stdout",
     "output_type": "stream",
     "text": [
      "LinearRegression(copy_X=True, fit_intercept=True, n_jobs=1, normalize=False)\n",
      "Coefficients:[ -43.26774487 -208.67053951  593.39797213  302.89814903 -560.27689824\n",
      "  261.47657106   -8.83343952  135.93715156  703.22658427   28.34844354],intercetp:153.07\n",
      "Residual sum of squares: 3180.20\n",
      "Score: 0.36\n"
     ]
    }
   ],
   "source": [
    "test_linearRegression(X_train,X_test,y_train,y_test)"
   ]
  },
  {
   "cell_type": "markdown",
   "metadata": {},
   "source": [
    "均方误差为 3180.20  预测性能得分仅为0.36   1.0 为最好"
   ]
  },
  {
   "cell_type": "code",
   "execution_count": 16,
   "metadata": {},
   "outputs": [],
   "source": [
    "# size 0.25  state 0\n",
    "def load_data(size,state):\n",
    "    diabets = datasets.load_diabetes()\n",
    "    return cross_validation.train_test_split(diabets.data,diabets.target,test_size=size,random_state=state)"
   ]
  },
  {
   "cell_type": "code",
   "execution_count": 17,
   "metadata": {},
   "outputs": [
    {
     "name": "stdout",
     "output_type": "stream",
     "text": [
      "LinearRegression(copy_X=True, fit_intercept=True, n_jobs=1, normalize=False)\n",
      "Coefficients:[  67.90807464 -260.92893154  645.62270415  278.9011711  -220.0498205\n",
      "  187.29766363 -439.3980303  -100.33313334  575.06910517  -49.45534267],intercetp:154.56\n",
      "Residual sum of squares: 3206.19\n",
      "Score: 0.44\n"
     ]
    }
   ],
   "source": [
    "X_train,X_test,y_train,y_test=load_data(0.75,0)\n",
    "test_linearRegression(X_train,X_test,y_train,y_test)"
   ]
  },
  {
   "cell_type": "code",
   "execution_count": 18,
   "metadata": {},
   "outputs": [],
   "source": [
    "def load_data():\n",
    "    # 加载数据集\n",
    "    diabets = datasets.load_diabetes()\n",
    "    return cross_validation.train_test_split(diabets.data,diabets.target,test_size=0.25,random_state=0)"
   ]
  },
  {
   "cell_type": "code",
   "execution_count": 25,
   "metadata": {},
   "outputs": [],
   "source": [
    "# Ridge 岭回归正则化\n",
    "# linear_model.Ridge(alpha=1.0,fit_intercept=True,normalize=False,copy_X=True,max_iter=None,tol=0.001,solver='auto',random_state=None)\n",
    "#alpha 其值越大则正则化项的占比越大\n",
    "#fit_intercept 如果为False 不计算b值\n",
    "#max_iter 最大迭代次数 默认none\n",
    "#normalize 如果为True 训练样本在回归之前会被归一化\n",
    "#copy_x 如果为True 则会复制 X\n",
    "#solver 字符串 auto 根据数据集自动选择算法  svd 奇异值计算回归系数  cholesky 使用scipy.linalg.solve函数计算 sparse_cg 同样 lsqr 同样 sag\n",
    "def test_Ridge(*data):\n",
    "    X_train,X_test,y_train,y_test=data\n",
    "    regr = linear_model.Ridge()\n",
    "    regr.fit(X_train,y_train)\n",
    "    print('Coefficients:%s,intercetp:%.2f'%(regr.coef_,regr.intercept_))\n",
    "    print('Residual sum of squares: %.2f'%np.mean((regr.predict(X_test) - y_test) ** 2))\n",
    "    print('Score: %.2f'%regr.score(X_test,y_test))"
   ]
  },
  {
   "cell_type": "code",
   "execution_count": 26,
   "metadata": {},
   "outputs": [],
   "source": [
    "X_train,X_test,y_train,y_test=load_data()"
   ]
  },
  {
   "cell_type": "code",
   "execution_count": 27,
   "metadata": {},
   "outputs": [
    {
     "name": "stdout",
     "output_type": "stream",
     "text": [
      "Coefficients:[  21.19927911  -60.47711393  302.87575204  179.41206395    8.90911449\n",
      "  -28.8080548  -149.30722541  112.67185758  250.53760873   99.57749017],intercetp:152.45\n",
      "Residual sum of squares: 3192.33\n",
      "Score: 0.36\n"
     ]
    }
   ],
   "source": [
    "test_Ridge(X_train,X_test,y_train,y_test)"
   ]
  },
  {
   "cell_type": "code",
   "execution_count": 28,
   "metadata": {},
   "outputs": [],
   "source": [
    "# 调整岭回归正则化第一个参数 alpha "
   ]
  },
  {
   "cell_type": "code",
   "execution_count": 71,
   "metadata": {},
   "outputs": [],
   "source": [
    "def test_Ridge_alpha(*data):\n",
    "    X_train,X_test,y_train,y_test=data\n",
    "    alphas=[0,0.001,0.01,0.02,0.05,0.06,0.07,0.08,0.09,0.099,0.1,0.2,0.5,1,2,5,10,20,50,100,200,500,1000]\n",
    "    scores=[]\n",
    "    for i,alpha in enumerate(alphas):\n",
    "        regr = linear_model.Ridge(alpha=alpha)\n",
    "        regr.fit(X_train,y_train)\n",
    "        scores.append(regr.score(X_test,y_test))\n",
    "    #绘图\n",
    "    fig=plt.figure()\n",
    "    ax=fig.add_subplot(1,1,1)\n",
    "    ax.plot(alphas,scores)\n",
    "    ax.set_xlabel(r\"$\\alpha$\")\n",
    "    ax.set_ylabel(r\"score\")\n",
    "    ax.set_xscale('log')\n",
    "    ax.set_title(\"Ridge\")\n",
    "    plt.show()"
   ]
  },
  {
   "cell_type": "code",
   "execution_count": 72,
   "metadata": {},
   "outputs": [
    {
     "data": {
      "image/png": "[encoded data removed]",
      "text/plain": [
       "<Figure size 432x288 with 1 Axes>"
      ]
     },
     "metadata": {},
     "output_type": "display_data"
    }
   ],
   "source": [
    "X_train,X_test,y_train,y_test=load_data()\n",
    "test_Ridge_alpha(X_train,X_test,y_train,y_test)"
   ]
  },
  {
   "cell_type": "code",
   "execution_count": 79,
   "metadata": {},
   "outputs": [],
   "source": [
    "# lasso 回归  和 岭回归的区别在于他的惩罚项 是基于 L1范数\n",
    "\n",
    "#L1范数正则化（ L1 regularization 或 lasso ）是机器学习（machine learning）中重要的手段，在支持向量机（support vector machine）学习过程中，\n",
    "#实际是一种对于成本函数(cost function)求解最优的过程，因此，L1范数正则化通过向成本函数中添加L1范数，使得学习得到的结果满足稀疏化(sparsity)，\n",
    "#从而方便人们提取特征。\n",
    "\n",
    "#sklearn.linear_model.Lasso(alpha=1.0,fit_intercept=True,normalize=False,precompute=False,copy_X=True,max_iter=1000,tol=0.0001,warm_start=False\n",
    "  #                         positive=False,random_state=None,selection='cyclic')\n",
    "#alpha 其值越大则正则化项的占比越大\n",
    "#fit_intercept 如果为False 不计算b值\n",
    "#max_iter 最大迭代次数 默认none\n",
    "#normalize 如果为True 训练样本在回归之前会被归一化\n",
    "#copy_x 如果为True 则会复制 X\n",
    "#precompute 决定是否提前计算 Gram矩阵来加速计算\n",
    "#tol 收敛与否的阈值\n",
    "#warm_start 是否使用前一次的训练结果继续训练  或 从头开始训练\n",
    "#positive 强制要求权重向量的分量的都为正数\n",
    "#selection  random 随机选择权重向量   cyclic 从前向后依次选择权重向量的一个分量的为正数\n",
    "#random_state 整数：随机种子  Randomstate 指定随机数生成器 None 默认随机数生成器\n",
    "\n",
    "def test_Lasso(*data):\n",
    "    X_train,X_test,y_train,y_test=data\n",
    "    regr = linear_model.Lasso()\n",
    "    regr.fit(X_train,y_train)\n",
    "    print('Coefficients:%s,intercetp:%.2f'%(regr.coef_,regr.intercept_))\n",
    "    print('Residual sum of squares: %.2f'%np.mean((regr.predict(X_test) - y_test) ** 2))\n",
    "    print('Score: %.2f'%regr.score(X_test,y_test))\n"
   ]
  },
  {
   "cell_type": "code",
   "execution_count": 80,
   "metadata": {},
   "outputs": [
    {
     "name": "stdout",
     "output_type": "stream",
     "text": [
      "Coefficients:[  0.          -0.         442.67992538   0.           0.\n",
      "   0.          -0.           0.         330.76014648   0.        ],intercetp:152.52\n",
      "Residual sum of squares: 3583.42\n",
      "Score: 0.28\n"
     ]
    }
   ],
   "source": [
    "X_train,X_test,y_train,y_test=load_data()\n",
    "test_Lasso(X_train,X_test,y_train,y_test)"
   ]
  },
  {
   "cell_type": "code",
   "execution_count": 83,
   "metadata": {},
   "outputs": [],
   "source": [
    "# \n",
    "def test_Lasso_alpha(*data):\n",
    "    X_train,X_test,y_train,y_test=data\n",
    "    alphas=[0.001,0.01,0.02,0.05,0.06,0.07,0.08,0.09,0.099,0.1,0.2,0.5,1,2,5,10,20,50,100,200,500,1000]\n",
    "    scores=[]\n",
    "    for i,alpha in enumerate(alphas):\n",
    "        regr = linear_model.Lasso(alpha=alpha)\n",
    "        regr.fit(X_train,y_train)\n",
    "        scores.append(regr.score(X_test,y_test))\n",
    "    #绘图\n",
    "    fig=plt.figure()\n",
    "    ax=fig.add_subplot(1,1,1)\n",
    "    ax.plot(alphas,scores)\n",
    "    ax.set_xlabel(r\"$\\alpha$\")\n",
    "    ax.set_ylabel(r\"score\")\n",
    "    ax.set_xscale('log')\n",
    "    ax.set_title(\"Lasso\")\n",
    "    plt.show()"
   ]
  },
  {
   "cell_type": "code",
   "execution_count": 84,
   "metadata": {},
   "outputs": [
    {
     "data": {
      "image/png": "[encoded data removed]",
      "text/plain": [
       "<Figure size 432x288 with 1 Axes>"
      ]
     },
     "metadata": {},
     "output_type": "display_data"
    }
   ],
   "source": [
    "X_train,X_test,y_train,y_test=load_data()\n",
    "test_Lasso_alpha(X_train,X_test,y_train,y_test)"
   ]
  },
  {
   "cell_type": "markdown",
   "metadata": {},
   "source": [
    "Lasso 回归和 Ridge 都是在 a 大于1之后 预测性能急剧下滑"
   ]
  },
  {
   "cell_type": "markdown",
   "metadata": {},
   "source": [
    "ElasticNet 回归   对 Lasso回归和岭回归的融合 其惩罚项是 L1 范数 和 L2 范数的一个权衡\n",
    "sklearn.linear_model.ElasticNet(alpha=1.0,fit_intercept=True,normalize=False,precompute=False,copy_X=True,max_iter=1000,tol=0.0001,warm_start=False, positive=False,random_state=None,selection='cyclic')\n",
    "alpha 其值越大则正则化项的占比越大\n",
    "fit_intercept 如果为False 不计算b值\n",
    "max_iter 最大迭代次数 默认none\n",
    "normalize 如果为True 训练样本在回归之前会被归一化\n",
    "copy_x 如果为True 则会复制 X\n",
    "precompute 决定是否提前计算 Gram矩阵来加速计算\n",
    "tol 收敛与否的阈值\n",
    "warm_start 是否使用前一次的训练结果继续训练  或 从头开始训练\n",
    "positive 强制要求权重向量的分量的都为正数\n",
    "selection  random 随机选择权重向量   cyclic 从前向后依次选择权重向量的一个分量的为正数\n",
    "random_state 整数：随机种子  Randomstate 指定随机数生成器 None 默认随机数生成器"
   ]
  },
  {
   "cell_type": "code",
   "execution_count": 86,
   "metadata": {},
   "outputs": [],
   "source": [
    "def test_ElasticNet(*data):\n",
    "    X_train,X_test,y_train,y_test=data\n",
    "    regr = linear_model.ElasticNet()\n",
    "    regr.fit(X_train,y_train)\n",
    "    print('Coefficients:%s,intercetp:%.2f'%(regr.coef_,regr.intercept_))\n",
    "    print('Residual sum of squares: %.2f'%np.mean((regr.predict(X_test) - y_test) ** 2))\n",
    "    print('Score: %.2f'%regr.score(X_test,y_test))\n",
    "    "
   ]
  },
  {
   "cell_type": "code",
   "execution_count": 87,
   "metadata": {},
   "outputs": [
    {
     "name": "stdout",
     "output_type": "stream",
     "text": [
      "Coefficients:[ 0.40560736  0.          3.76542456  2.38531508  0.58677945  0.22891647\n",
      " -2.15858149  2.33867566  3.49846121  1.98299707],intercetp:151.93\n",
      "Residual sum of squares: 4922.36\n",
      "Score: 0.01\n"
     ]
    }
   ],
   "source": [
    "X_train,X_test,y_train,y_test=load_data()\n",
    "test_ElasticNet(X_train,X_test,y_train,y_test)"
   ]
  },
  {
   "cell_type": "code",
   "execution_count": 105,
   "metadata": {},
   "outputs": [],
   "source": [
    "# 验证 α与 ρ 值的预测性能的影响 \n",
    "def test_ElasticNet_alpha_rho(*data):\n",
    "    X_train,X_test,y_train,y_test=data\n",
    "    alphas=np.logspace(-2,2)\n",
    "    rhos=np.linspace(0.01,1)\n",
    "    scores=[]\n",
    "    for alpha in alphas:\n",
    "        for rho in rhos:\n",
    "            regr = linear_model.ElasticNet(alpha=alpha,l1_ratio=rho)\n",
    "            regr.fit(X_train,y_train)\n",
    "            scores.append(regr.score(X_test,y_test))\n",
    "\n",
    "    #绘图\n",
    "    alphas,rhos = np.meshgrid(alphas,rhos)\n",
    "    scores=np.array(scores).reshape(alphas.shape)\n",
    "    \n",
    "    from mpl_toolkits.mplot3d import Axes3D\n",
    "    from matplotlib import cm\n",
    "    fig=plt.figure()\n",
    "    ax = Axes3D(fig)\n",
    "    surf = ax.plot_surface(alphas,rhos,scores,rstride=1,cstride=1,cmap=cm.jet,linewidth=0,antialiased=False)\n",
    "    fig.colorbar(surf,shrink=0.5,aspect=5)\n",
    "    ax.set_xlabel(r\"$\\alpha$\")\n",
    "    ax.set_ylabel(r\"$\\rho$\")\n",
    "    ax.set_zlabel(\"score\")\n",
    "    ax.set_title(\"ElasticNet\")\n",
    "    plt.show()"
   ]
  },
  {
   "cell_type": "code",
   "execution_count": 106,
   "metadata": {},
   "outputs": [
    {
     "data": {
      "image/png": "[encoded data removed]",
      "text/plain": [
       "<Figure size 432x288 with 2 Axes>"
      ]
     },
     "metadata": {},
     "output_type": "display_data"
    }
   ],
   "source": [
    "X_train,X_test,y_train,y_test=load_data()\n",
    "test_ElasticNet_alpha_rho(X_train,X_test,y_train,y_test)"
   ]
  },
  {
   "cell_type": "markdown",
   "metadata": {},
   "source": [
    "下面开始另一种线性回归\n",
    "\n",
    "逻辑回归\n",
    "logistic回归又称logistic回归分析，是一种广义的线性回归分析模型，常用于数据挖掘，疾病自动诊断，经济预测等领域。例如，探讨引发疾病的危险因素，并根据危险因素预测疾病发生的概率等。以胃癌病情分析为例，选择两组人群，一组是胃癌组，一组是非胃癌组，两组人群必定具有不同的体征与生活方式等。因此因变量就为是否胃癌，值为“是”或“否”，自变量就可以包括很多了，如年龄、性别、饮食习惯、幽门螺杆菌感染等。自变量既可以是连续的，也可以是分类的。然后通过logistic回归分析，可以得到自变量的权重，从而可以大致了解到底哪些因素是胃癌的危险因素。同时根据该权值可以根据危险因素预测一个人患癌症的可能性。\n",
    "\n",
    "class sklearn.linear_model.LogisticRegression(penalty=’l2’, dual=False, tol=0.0001, C=1.0, fit_intercept=True, intercept_scaling=1, class_weight=None, random_state=None, solver=’liblinear’, max_iter=100, multi_class=’ovr’, verbose=0, warm_start=False, n_jobs=1)\n",
    "\n",
    "\n",
    "参数：\n",
    "penalty: 一个字符串，制定了正则化策略。\n",
    "\n",
    "如果为'l2'，则优化目标函数为：为极大似然函数。\n",
    "如果为'l1'，则优化目标函数为：为极大似然函数。\n",
    "dual：一个布尔值。如果为True，则求解对偶形式（只是在penalty='l2' 且solver='liblinear' 有对偶形式）；如果为False，则求解原始形式。\n",
    "\n",
    "C：一个浮点数，它指定了惩罚系数的倒数。如果它的值越小，则正则化越大。\n",
    "\n",
    "fit_intercept：一个布尔值，制定是否需要b 值。如果为False，则不会计算b值（模型会假设你的数据已经中心化）。\n",
    "\n",
    "intercept_scaling：一个浮点数，只有当 solver='liblinear' 才有意义。当采用 fit_intercept 时，相当于人造一个特征出来，该特征恒为 1，其权重为\n",
    "\n",
    "               b 。在计算正则化项的时候，该人造特征也被考虑了。因此为了降低人造特征的影响，需要提供 intercept_scaling。\n",
    "\n",
    "class_weight：一个字典或者字符串'balanced'。\n",
    "\n",
    "如果为字典：则字典给出了每个分类的权重，如{class_label:weight}。\n",
    "如果为字符串 'balanced'：则每个分类的权重与该分类在样品中出现的频率成反比。\n",
    "如果未指定，则每个分类的权重都为 1。\n",
    "max_iter：一个整数，指定最大迭代数。\n",
    "\n",
    "random_state：一个整数或者一个RandomState实例，或者None。\n",
    "如果为整数，则它指定了随机数生成器的种子。\n",
    "如果为RandomState实例，则指定了随机数生成器。\n",
    "如果为None，则使用默认的随机数生成器。 \n",
    "solver：一个字符串，指定了求解最优化问题的算法，可以为如下的值。\n",
    "'newton-cg'：使用牛顿法。\n",
    "'lbfgs'：使用L-BFGS拟牛顿法。\n",
    "'liblinear' ：使用 liblinear。\n",
    "'sag'：使用 Stochastic Average Gradient descent 算法。\n",
    "      注意：\n",
    "对于规模小的数据集，'liblearner'比较适用；对于规模大的数据集，'sag'比较适用。\n",
    "'newton-cg'、'lbfgs'、'sag' 只处理penalty=‘12’的情况。\n",
    "tol：一个浮点数，指定判断迭代收敛与否的一个阈值。\n",
    "\n",
    "multi_class：一个字符串，指定对于多分类问题的策略，可以为如下的值。\n",
    "'ovr' ：采用 one-vs-rest 策略。\n",
    "'multinomial'：直接采用多分类逻辑回归策略。\n",
    "verbose：一个正数。用于开启/关闭迭代中间输出的日志。\n",
    "warm_start：一个布尔值。如果为True，那么使用前一次训练结果继续训练，否则从头开始训练。\n",
    "n_jobs：一个正数。指定任务并行时的 CPU 数量。如果为 -1 则使用所有了用的 CPU。\n",
    "返回值\n",
    "\n",
    "coef_：权重向量。\n",
    "intercept：b值。\n",
    "n_iter_：实际迭代次数。\n",
    "\n",
    "\n",
    "方法\n",
    "\n",
    "fix(X,y[,sample_weight])：训练模型。\n",
    "predict(X)：用模型进行预测，返回预测值。\n",
    "score(X,y[,sample_weight])：返回（X，y）上的预测准确率（accuracy）。\n",
    "predict_log_proba（X）：返回一个数组，数组的元素一次是 X 预测为各个类别的概率的对数值。 \n",
    "predict_proba（X）：返回一个数组，数组元素一次是 X 预测为各个类别的概率的概率值。\n",
    "sparsify()：将系数矩阵转换为稀疏格式。\n",
    "set_params（** params）：设置此估计器的参数。\n",
    "decision_function（X）：预测样本的置信度分数。\n",
    "densify()：将系数矩阵转换为密集阵列格式。"
   ]
  },
  {
   "cell_type": "code",
   "execution_count": 123,
   "metadata": {},
   "outputs": [],
   "source": [
    "# 以 鸢尾花 进行分类  一共 150 个数据 \n",
    "#数据分为3类  setosa ,versicolor,virginica  每类50个数据  \n",
    "# 每个数据包含4个特征  萼片长度  萼片宽度  花瓣长度  花瓣宽度\n",
    "\n",
    "def load_data():\n",
    "    iris = datasets.load_iris()\n",
    "    X_train = iris.data\n",
    "    y_train = iris.target\n",
    "    return cross_validation.train_test_split(X_train,y_train,test_size=0.25,random_state=0,stratify=y_train)"
   ]
  },
  {
   "cell_type": "code",
   "execution_count": 128,
   "metadata": {},
   "outputs": [],
   "source": [
    "# 这里采用分层采用  因为原始数据集中  前50个样本都是类别0 中间50个样本都是类别1 最后50个样本都是类别2\n",
    "\n",
    "def test_LogisticRegression(*data):\n",
    "    X_train,X_test,y_train,y_test=data\n",
    "    regr = linear_model.LogisticRegression()\n",
    "    regr.fit(X_train,y_train)\n",
    "    print('Coefficients:%s,intercetp:%s'%(regr.coef_,regr.intercept_))\n",
    "    print('Score: %.2f'%regr.score(X_test,y_test))"
   ]
  },
  {
   "cell_type": "code",
   "execution_count": 129,
   "metadata": {},
   "outputs": [
    {
     "name": "stdout",
     "output_type": "stream",
     "text": [
      "Coefficients:[[ 0.39310895  1.35470406 -2.12308303 -0.96477916]\n",
      " [ 0.22462128 -1.34888898  0.60067997 -1.24122398]\n",
      " [-1.50918214 -1.29436177  2.14150484  2.2961458 ]],intercetp:[ 0.24122458  1.13775782 -1.09418724]\n",
      "Score: 0.97\n"
     ]
    }
   ],
   "source": [
    "X_train,X_test,y_train,y_test=load_data()\n",
    "#print(X_train)\n",
    "#print(X_test)\n",
    "#print(y_train)\n",
    "#print(y_test)\n",
    "test_LogisticRegression(X_train,X_test,y_train,y_test)"
   ]
  },
  {
   "cell_type": "markdown",
   "metadata": {},
   "source": [
    "预测性能 0.97 即 预测准确率 97%"
   ]
  },
  {
   "cell_type": "code",
   "execution_count": 130,
   "metadata": {},
   "outputs": [],
   "source": [
    "# multi_class 参数对分类结果的影响 默认采用 one-vs-rest 策略 当时路基回归模型原生支持多类分类\n",
    "def test_LogisticRegression_multinomial(*data):\n",
    "    X_train,X_test,y_train,y_test=data\n",
    "    regr = linear_model.LogisticRegression(multi_class='multinomial',solver='lbfgs')\n",
    "    regr.fit(X_train,y_train)\n",
    "    print('Coefficients:%s,intercetp:%s'%(regr.coef_,regr.intercept_))\n",
    "    print('Score: %.2f'%regr.score(X_test,y_test))"
   ]
  },
  {
   "cell_type": "code",
   "execution_count": 131,
   "metadata": {},
   "outputs": [
    {
     "name": "stdout",
     "output_type": "stream",
     "text": [
      "Coefficients:[[-0.38365872  0.85501328 -2.27224244 -0.98486171]\n",
      " [ 0.34359409 -0.37367647 -0.03043553 -0.86135577]\n",
      " [ 0.04006464 -0.48133681  2.30267797  1.84621747]],intercetp:[  8.79984878   2.46853199 -11.26838077]\n",
      "Score: 1.00\n"
     ]
    }
   ],
   "source": [
    "X_train,X_test,y_train,y_test=load_data()\n",
    "test_LogisticRegression_multinomial(X_train,X_test,y_train,y_test)"
   ]
  },
  {
   "cell_type": "code",
   "execution_count": 134,
   "metadata": {},
   "outputs": [],
   "source": [
    "# 考察参数 C 对分类模型的预测性能的影响 c是正则化系数的倒数 \n",
    "def test_LogisticRegression_C(*data):\n",
    "    X_train,X_test,y_train,y_test=data\n",
    "    # np.logspace 用于创建等差数列，现在介绍logspac用于创建等比数列。\n",
    "    Cs = np.logspace(-2,4,num=100)\n",
    "    scores=[]\n",
    "    for C in Cs:\n",
    "        regr = linear_model.LogisticRegression(C=C)\n",
    "        regr.fit(X_train,y_train)\n",
    "        scores.append(regr.score(X_test,y_test))\n",
    "    \n",
    "    # 绘图\n",
    "    fig=plt.figure()\n",
    "    ax=fig.add_subplot(1,1,1)\n",
    "    ax.plot(Cs,scores)\n",
    "    ax.set_xlabel(r\"c\")\n",
    "    ax.set_ylabel(r\"score\")\n",
    "    ax.set_xscale('log')\n",
    "    ax.set_title('LogisticRegression')\n",
    "    plt.show()"
   ]
  },
  {
   "cell_type": "code",
   "execution_count": 135,
   "metadata": {},
   "outputs": [
    {
     "data": {
      "image/png": "[encoded data removed]",
      "text/plain": [
       "<Figure size 432x288 with 1 Axes>"
      ]
     },
     "metadata": {},
     "output_type": "display_data"
    }
   ],
   "source": [
    "X_train,X_test,y_train,y_test=load_data()\n",
    "test_LogisticRegression_C(X_train,X_test,y_train,y_test)"
   ]
  },
  {
   "cell_type": "code",
   "execution_count": null,
   "metadata": {},
   "outputs": [],
   "source": []
  }
 ],
 "metadata": {
  "kernelspec": {
   "display_name": "Python 3",
   "language": "python",
   "name": "python3"
  },
  "language_info": {
   "codemirror_mode": {
    "name": "ipython",
    "version": 3
   },
   "file_extension": ".py",
   "mimetype": "text/x-python",
   "name": "python",
   "nbconvert_exporter": "python",
   "pygments_lexer": "ipython3",
   "version": "3.6.5"
  }
 },
 "nbformat": 4,
 "nbformat_minor": 2
}
