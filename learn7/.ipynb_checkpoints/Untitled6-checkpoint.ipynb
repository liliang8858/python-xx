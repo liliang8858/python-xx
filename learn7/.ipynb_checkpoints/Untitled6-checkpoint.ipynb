{
 "cells": [
  {
   "cell_type": "code",
   "execution_count": 1,
   "metadata": {},
   "outputs": [],
   "source": [
    "import pandas as pd"
   ]
  },
  {
   "cell_type": "code",
   "execution_count": 2,
   "metadata": {},
   "outputs": [],
   "source": [
    "import numpy as np"
   ]
  },
  {
   "cell_type": "code",
   "execution_count": 3,
   "metadata": {},
   "outputs": [],
   "source": [
    "titanic_suval = pd.read_csv(\"titanic_trani.csv\")"
   ]
  },
  {
   "cell_type": "code",
   "execution_count": 4,
   "metadata": {},
   "outputs": [
    {
     "data": {
      "text/html": [
       "<div>\n",
       "<style scoped>\n",
       "    .dataframe tbody tr th:only-of-type {\n",
       "        vertical-align: middle;\n",
       "    }\n",
       "\n",
       "    .dataframe tbody tr th {\n",
       "        vertical-align: top;\n",
       "    }\n",
       "\n",
       "    .dataframe thead th {\n",
       "        text-align: right;\n",
       "    }\n",
       "</style>\n",
       "<table border=\"1\" class=\"dataframe\">\n",
       "  <thead>\n",
       "    <tr style=\"text-align: right;\">\n",
       "      <th></th>\n",
       "      <th>Passend</th>\n",
       "      <th>Survivec</th>\n",
       "      <th>Pclass</th>\n",
       "      <th>Name</th>\n",
       "      <th>Sex</th>\n",
       "      <th>Age</th>\n",
       "      <th>SibSp</th>\n",
       "      <th>Parch</th>\n",
       "      <th>Ticket</th>\n",
       "      <th>Fare</th>\n",
       "      <th>Cabin</th>\n",
       "      <th>Embarked</th>\n",
       "    </tr>\n",
       "  </thead>\n",
       "  <tbody>\n",
       "    <tr>\n",
       "      <th>0</th>\n",
       "      <td>1</td>\n",
       "      <td>0</td>\n",
       "      <td>3</td>\n",
       "      <td>dfaefd</td>\n",
       "      <td>male</td>\n",
       "      <td>22.0</td>\n",
       "      <td>1</td>\n",
       "      <td>0</td>\n",
       "      <td>A/5 21171</td>\n",
       "      <td>7.2500</td>\n",
       "      <td>NaN</td>\n",
       "      <td>S</td>\n",
       "    </tr>\n",
       "    <tr>\n",
       "      <th>1</th>\n",
       "      <td>2</td>\n",
       "      <td>1</td>\n",
       "      <td>1</td>\n",
       "      <td>fdsfd</td>\n",
       "      <td>female</td>\n",
       "      <td>38.0</td>\n",
       "      <td>1</td>\n",
       "      <td>0</td>\n",
       "      <td>PC</td>\n",
       "      <td>71.2833</td>\n",
       "      <td>C85</td>\n",
       "      <td>C</td>\n",
       "    </tr>\n",
       "    <tr>\n",
       "      <th>2</th>\n",
       "      <td>3</td>\n",
       "      <td>0</td>\n",
       "      <td>3</td>\n",
       "      <td>asfsa</td>\n",
       "      <td>female</td>\n",
       "      <td>26.0</td>\n",
       "      <td>0</td>\n",
       "      <td>0</td>\n",
       "      <td>STON</td>\n",
       "      <td>7.8000</td>\n",
       "      <td>NaN</td>\n",
       "      <td>S</td>\n",
       "    </tr>\n",
       "    <tr>\n",
       "      <th>3</th>\n",
       "      <td>4</td>\n",
       "      <td>1</td>\n",
       "      <td>2</td>\n",
       "      <td>fdsgd</td>\n",
       "      <td>female</td>\n",
       "      <td>27.0</td>\n",
       "      <td>1</td>\n",
       "      <td>1</td>\n",
       "      <td>FSD</td>\n",
       "      <td>58.0000</td>\n",
       "      <td>NaN</td>\n",
       "      <td>S</td>\n",
       "    </tr>\n",
       "    <tr>\n",
       "      <th>4</th>\n",
       "      <td>5</td>\n",
       "      <td>1</td>\n",
       "      <td>1</td>\n",
       "      <td>ertfds</td>\n",
       "      <td>female</td>\n",
       "      <td>28.0</td>\n",
       "      <td>1</td>\n",
       "      <td>0</td>\n",
       "      <td>STON</td>\n",
       "      <td>75.0000</td>\n",
       "      <td>NaN</td>\n",
       "      <td>C</td>\n",
       "    </tr>\n",
       "  </tbody>\n",
       "</table>\n",
       "</div>"
      ],
      "text/plain": [
       "   Passend  Survivec  Pclass    Name     Sex   Age  SibSp  Parch     Ticket  \\\n",
       "0        1         0       3  dfaefd    male  22.0      1      0  A/5 21171   \n",
       "1        2         1       1   fdsfd  female  38.0      1      0         PC   \n",
       "2        3         0       3   asfsa  female  26.0      0      0       STON   \n",
       "3        4         1       2   fdsgd  female  27.0      1      1        FSD   \n",
       "4        5         1       1  ertfds  female  28.0      1      0       STON   \n",
       "\n",
       "      Fare Cabin Embarked  \n",
       "0   7.2500   NaN        S  \n",
       "1  71.2833   C85        C  \n",
       "2   7.8000   NaN        S  \n",
       "3  58.0000   NaN        S  \n",
       "4  75.0000   NaN        C  "
      ]
     },
     "execution_count": 4,
     "metadata": {},
     "output_type": "execute_result"
    }
   ],
   "source": [
    "titanic_suval.head()"
   ]
  },
  {
   "cell_type": "code",
   "execution_count": 5,
   "metadata": {},
   "outputs": [],
   "source": [
    "age = titanic_suval[\"Age\"]"
   ]
  },
  {
   "cell_type": "code",
   "execution_count": 6,
   "metadata": {},
   "outputs": [
    {
     "name": "stdout",
     "output_type": "stream",
     "text": [
      "0     22.0\n",
      "1     38.0\n",
      "2     26.0\n",
      "3     27.0\n",
      "4     28.0\n",
      "5      NaN\n",
      "6     30.0\n",
      "7     31.0\n",
      "8     32.0\n",
      "9     33.0\n",
      "10    34.0\n",
      "11    35.0\n",
      "Name: Age, dtype: float64\n"
     ]
    }
   ],
   "source": [
    "print(age)"
   ]
  },
  {
   "cell_type": "code",
   "execution_count": 7,
   "metadata": {},
   "outputs": [
    {
     "name": "stdout",
     "output_type": "stream",
     "text": [
      "0     22.0\n",
      "1     38.0\n",
      "2     26.0\n",
      "3     27.0\n",
      "4     28.0\n",
      "5      NaN\n",
      "6     30.0\n",
      "7     31.0\n",
      "8     32.0\n",
      "9     33.0\n",
      "10    34.0\n",
      "Name: Age, dtype: float64\n"
     ]
    }
   ],
   "source": [
    "print(age.loc[0:10])"
   ]
  },
  {
   "cell_type": "code",
   "execution_count": 8,
   "metadata": {},
   "outputs": [],
   "source": [
    "age_is_null = pd.isnull(age)"
   ]
  },
  {
   "cell_type": "code",
   "execution_count": 9,
   "metadata": {},
   "outputs": [
    {
     "name": "stdout",
     "output_type": "stream",
     "text": [
      "0     False\n",
      "1     False\n",
      "2     False\n",
      "3     False\n",
      "4     False\n",
      "5      True\n",
      "6     False\n",
      "7     False\n",
      "8     False\n",
      "9     False\n",
      "10    False\n",
      "11    False\n",
      "Name: Age, dtype: bool\n"
     ]
    }
   ],
   "source": [
    "print(age_is_null)"
   ]
  },
  {
   "cell_type": "code",
   "execution_count": 10,
   "metadata": {},
   "outputs": [],
   "source": [
    "age_null_true = age[age_is_null]"
   ]
  },
  {
   "cell_type": "code",
   "execution_count": 11,
   "metadata": {},
   "outputs": [
    {
     "name": "stdout",
     "output_type": "stream",
     "text": [
      "5   NaN\n",
      "Name: Age, dtype: float64\n"
     ]
    }
   ],
   "source": [
    "print(age_null_true)"
   ]
  },
  {
   "cell_type": "code",
   "execution_count": 12,
   "metadata": {},
   "outputs": [],
   "source": [
    "mean_age = sum(titanic_suval[\"Age\"])/len(titanic_suval[\"Age\"])"
   ]
  },
  {
   "cell_type": "code",
   "execution_count": 13,
   "metadata": {},
   "outputs": [
    {
     "name": "stdout",
     "output_type": "stream",
     "text": [
      "nan\n"
     ]
    }
   ],
   "source": [
    "print(mean_age)"
   ]
  },
  {
   "cell_type": "code",
   "execution_count": 14,
   "metadata": {},
   "outputs": [],
   "source": [
    "good_ages = titanic_suval[\"Age\"][age_is_null == False]"
   ]
  },
  {
   "cell_type": "code",
   "execution_count": 15,
   "metadata": {},
   "outputs": [],
   "source": [
    "correct_mean_age  = sum (good_ages) / len(good_ages)"
   ]
  },
  {
   "cell_type": "code",
   "execution_count": 16,
   "metadata": {},
   "outputs": [
    {
     "name": "stdout",
     "output_type": "stream",
     "text": [
      "30.545454545454547\n"
     ]
    }
   ],
   "source": [
    "print (correct_mean_age)"
   ]
  },
  {
   "cell_type": "code",
   "execution_count": 17,
   "metadata": {},
   "outputs": [],
   "source": [
    "correct_mean_age = titanic_suval[\"Age\"].mean()#缺少值去掉 求平均"
   ]
  },
  {
   "cell_type": "code",
   "execution_count": 18,
   "metadata": {},
   "outputs": [
    {
     "name": "stdout",
     "output_type": "stream",
     "text": [
      "30.545454545454547\n"
     ]
    }
   ],
   "source": [
    "print(correct_mean_age)"
   ]
  },
  {
   "cell_type": "code",
   "execution_count": 19,
   "metadata": {},
   "outputs": [],
   "source": [
    "passenger_clas = [1,2,3]"
   ]
  },
  {
   "cell_type": "code",
   "execution_count": 20,
   "metadata": {},
   "outputs": [],
   "source": [
    "fares_by_class = {}# 每个仓位价格平均"
   ]
  },
  {
   "cell_type": "code",
   "execution_count": 21,
   "metadata": {},
   "outputs": [],
   "source": [
    "for this_class in passenger_clas:\n",
    "    pclass_rows = titanic_suval[titanic_suval[\"Pclass\"] == this_class]\n",
    "    pclass_fares = pclass_rows[\"Fare\"]\n",
    "    fare_by_class = pclass_fares.mean()\n",
    "    fares_by_class[this_class] = fare_by_class"
   ]
  },
  {
   "cell_type": "code",
   "execution_count": 22,
   "metadata": {},
   "outputs": [
    {
     "name": "stdout",
     "output_type": "stream",
     "text": [
      "{1: 76.65666, 2: 56.5, 3: 8.01}\n"
     ]
    }
   ],
   "source": [
    "print(fares_by_class)"
   ]
  },
  {
   "cell_type": "code",
   "execution_count": 23,
   "metadata": {},
   "outputs": [],
   "source": [
    "passenger_survival = titanic_suval.pivot_table(index=\"Pclass\",values=\"Survivec\",aggfunc=np.mean)"
   ]
  },
  {
   "cell_type": "code",
   "execution_count": 24,
   "metadata": {},
   "outputs": [
    {
     "name": "stdout",
     "output_type": "stream",
     "text": [
      "        Survivec\n",
      "Pclass          \n",
      "1            0.8\n",
      "2            0.5\n",
      "3            0.2\n"
     ]
    }
   ],
   "source": [
    "print(passenger_survival)# 仓位的获救概率"
   ]
  },
  {
   "cell_type": "code",
   "execution_count": 25,
   "metadata": {},
   "outputs": [],
   "source": [
    "passenger_age = titanic_suval.pivot_table(index=\"Pclass\",values=\"Age\")"
   ]
  },
  {
   "cell_type": "code",
   "execution_count": 26,
   "metadata": {},
   "outputs": [
    {
     "name": "stdout",
     "output_type": "stream",
     "text": [
      "          Age\n",
      "Pclass       \n",
      "1       32.80\n",
      "2       29.50\n",
      "3       28.25\n"
     ]
    }
   ],
   "source": [
    "print(passenger_age)#仓位平均年龄"
   ]
  },
  {
   "cell_type": "code",
   "execution_count": 27,
   "metadata": {},
   "outputs": [],
   "source": [
    "port_stats = titanic_suval.pivot_table(index=\"Embarked\",values=[\"Fare\",\"Survivec\"],aggfunc=np.sum)"
   ]
  },
  {
   "cell_type": "code",
   "execution_count": 28,
   "metadata": {},
   "outputs": [
    {
     "name": "stdout",
     "output_type": "stream",
     "text": [
      "              Fare  Survivec\n",
      "Embarked                    \n",
      "C         214.2833         3\n",
      "S         322.0500         3\n"
     ]
    }
   ],
   "source": [
    "print(port_stats)# 统计 上船 另外两个字段的关系"
   ]
  },
  {
   "cell_type": "code",
   "execution_count": 29,
   "metadata": {},
   "outputs": [],
   "source": [
    "drop_na_columns = titanic_suval.dropna(axis=1)# 有没有缺失值 有 就去掉列"
   ]
  },
  {
   "cell_type": "code",
   "execution_count": 30,
   "metadata": {},
   "outputs": [],
   "source": [
    "new_titanic_survival = titanic_suval.dropna(axis=0,subset=[\"Age\",\"Sex\"]) # 这两列  如果有缺失值就去掉行"
   ]
  },
  {
   "cell_type": "code",
   "execution_count": 31,
   "metadata": {},
   "outputs": [
    {
     "name": "stdout",
     "output_type": "stream",
     "text": [
      "    Passend  Survivec  Pclass        Name     Sex  SibSp  Parch     Ticket  \\\n",
      "0         1         0       3      dfaefd    male      1      0  A/5 21171   \n",
      "1         2         1       1       fdsfd  female      1      0         PC   \n",
      "2         3         0       3       asfsa  female      0      0       STON   \n",
      "3         4         1       2       fdsgd  female      1      1        FSD   \n",
      "4         5         1       1      ertfds  female      1      0       STON   \n",
      "5         6         0       3  fdggfdsgre  female      0      0       FSDF   \n",
      "6         7         0       1       gfhgf  female      1      0       DFSA   \n",
      "7         8         0       3        gfds  female      1      1       FREW   \n",
      "8         9         0       2         fgh  female      1      1        SDF   \n",
      "9        10         1       1         hfh  female      1      0        EWR   \n",
      "10       11         1       3         hrt  female      0      0       WERF   \n",
      "11       12         1       1        gfdg  female      1      1         AS   \n",
      "\n",
      "       Fare Embarked  \n",
      "0    7.2500        S  \n",
      "1   71.2833        C  \n",
      "2    7.8000        S  \n",
      "3   58.0000        S  \n",
      "4   75.0000        C  \n",
      "5    8.0000        S  \n",
      "6   85.0000        S  \n",
      "7    9.0000        S  \n",
      "8   55.0000        S  \n",
      "9   68.0000        C  \n",
      "10   8.0000        S  \n",
      "11  84.0000        S  \n"
     ]
    }
   ],
   "source": [
    "print(drop_na_columns)"
   ]
  },
  {
   "cell_type": "code",
   "execution_count": 32,
   "metadata": {},
   "outputs": [
    {
     "name": "stdout",
     "output_type": "stream",
     "text": [
      "    Passend  Survivec  Pclass    Name     Sex   Age  SibSp  Parch     Ticket  \\\n",
      "0         1         0       3  dfaefd    male  22.0      1      0  A/5 21171   \n",
      "1         2         1       1   fdsfd  female  38.0      1      0         PC   \n",
      "2         3         0       3   asfsa  female  26.0      0      0       STON   \n",
      "3         4         1       2   fdsgd  female  27.0      1      1        FSD   \n",
      "4         5         1       1  ertfds  female  28.0      1      0       STON   \n",
      "6         7         0       1   gfhgf  female  30.0      1      0       DFSA   \n",
      "7         8         0       3    gfds  female  31.0      1      1       FREW   \n",
      "8         9         0       2     fgh  female  32.0      1      1        SDF   \n",
      "9        10         1       1     hfh  female  33.0      1      0        EWR   \n",
      "10       11         1       3     hrt  female  34.0      0      0       WERF   \n",
      "11       12         1       1    gfdg  female  35.0      1      1         AS   \n",
      "\n",
      "       Fare Cabin Embarked  \n",
      "0    7.2500   NaN        S  \n",
      "1   71.2833   C85        C  \n",
      "2    7.8000   NaN        S  \n",
      "3   58.0000   NaN        S  \n",
      "4   75.0000   NaN        C  \n",
      "6   85.0000   NaN        S  \n",
      "7    9.0000   NaN        S  \n",
      "8   55.0000   NaN        S  \n",
      "9   68.0000   NaN        C  \n",
      "10   8.0000   NaN        S  \n",
      "11  84.0000   NaN        S  \n"
     ]
    }
   ],
   "source": [
    "print(new_titanic_survival)"
   ]
  },
  {
   "cell_type": "code",
   "execution_count": 33,
   "metadata": {},
   "outputs": [],
   "source": [
    "row_index_10_age = titanic_suval.loc[10,\"Age\"]"
   ]
  },
  {
   "cell_type": "code",
   "execution_count": 34,
   "metadata": {},
   "outputs": [
    {
     "name": "stdout",
     "output_type": "stream",
     "text": [
      "34.0\n"
     ]
    }
   ],
   "source": [
    "print(row_index_10_age)"
   ]
  },
  {
   "cell_type": "code",
   "execution_count": 35,
   "metadata": {},
   "outputs": [],
   "source": [
    "new_titanic_survival = titanic_suval.sort_values(\"Age\",ascending=False)"
   ]
  },
  {
   "cell_type": "code",
   "execution_count": 36,
   "metadata": {},
   "outputs": [
    {
     "name": "stdout",
     "output_type": "stream",
     "text": [
      "    Passend  Survivec  Pclass        Name     Sex   Age  SibSp  Parch  \\\n",
      "1         2         1       1       fdsfd  female  38.0      1      0   \n",
      "11       12         1       1        gfdg  female  35.0      1      1   \n",
      "10       11         1       3         hrt  female  34.0      0      0   \n",
      "9        10         1       1         hfh  female  33.0      1      0   \n",
      "8         9         0       2         fgh  female  32.0      1      1   \n",
      "7         8         0       3        gfds  female  31.0      1      1   \n",
      "6         7         0       1       gfhgf  female  30.0      1      0   \n",
      "4         5         1       1      ertfds  female  28.0      1      0   \n",
      "3         4         1       2       fdsgd  female  27.0      1      1   \n",
      "2         3         0       3       asfsa  female  26.0      0      0   \n",
      "0         1         0       3      dfaefd    male  22.0      1      0   \n",
      "5         6         0       3  fdggfdsgre  female   NaN      0      0   \n",
      "\n",
      "       Ticket     Fare Cabin Embarked  \n",
      "1          PC  71.2833   C85        C  \n",
      "11         AS  84.0000   NaN        S  \n",
      "10       WERF   8.0000   NaN        S  \n",
      "9         EWR  68.0000   NaN        C  \n",
      "8         SDF  55.0000   NaN        S  \n",
      "7        FREW   9.0000   NaN        S  \n",
      "6        DFSA  85.0000   NaN        S  \n",
      "4        STON  75.0000   NaN        C  \n",
      "3         FSD  58.0000   NaN        S  \n",
      "2        STON   7.8000   NaN        S  \n",
      "0   A/5 21171   7.2500   NaN        S  \n",
      "5        FSDF   8.0000   C35        S  \n"
     ]
    }
   ],
   "source": [
    "print(new_titanic_survival)"
   ]
  },
  {
   "cell_type": "code",
   "execution_count": 37,
   "metadata": {},
   "outputs": [],
   "source": [
    "titanic_reindexed = new_titanic_survival.reset_index(drop=True)#更新索引值 "
   ]
  },
  {
   "cell_type": "code",
   "execution_count": 38,
   "metadata": {},
   "outputs": [
    {
     "name": "stdout",
     "output_type": "stream",
     "text": [
      "    Passend  Survivec  Pclass        Name     Sex   Age  SibSp  Parch  \\\n",
      "0         2         1       1       fdsfd  female  38.0      1      0   \n",
      "1        12         1       1        gfdg  female  35.0      1      1   \n",
      "2        11         1       3         hrt  female  34.0      0      0   \n",
      "3        10         1       1         hfh  female  33.0      1      0   \n",
      "4         9         0       2         fgh  female  32.0      1      1   \n",
      "5         8         0       3        gfds  female  31.0      1      1   \n",
      "6         7         0       1       gfhgf  female  30.0      1      0   \n",
      "7         5         1       1      ertfds  female  28.0      1      0   \n",
      "8         4         1       2       fdsgd  female  27.0      1      1   \n",
      "9         3         0       3       asfsa  female  26.0      0      0   \n",
      "10        1         0       3      dfaefd    male  22.0      1      0   \n",
      "11        6         0       3  fdggfdsgre  female   NaN      0      0   \n",
      "\n",
      "       Ticket     Fare Cabin Embarked  \n",
      "0          PC  71.2833   C85        C  \n",
      "1          AS  84.0000   NaN        S  \n",
      "2        WERF   8.0000   NaN        S  \n",
      "3         EWR  68.0000   NaN        C  \n",
      "4         SDF  55.0000   NaN        S  \n",
      "5        FREW   9.0000   NaN        S  \n",
      "6        DFSA  85.0000   NaN        S  \n",
      "7        STON  75.0000   NaN        C  \n",
      "8         FSD  58.0000   NaN        S  \n",
      "9        STON   7.8000   NaN        S  \n",
      "10  A/5 21171   7.2500   NaN        S  \n",
      "11       FSDF   8.0000   C35        S  \n"
     ]
    }
   ],
   "source": [
    "print(titanic_reindexed)"
   ]
  },
  {
   "cell_type": "code",
   "execution_count": 39,
   "metadata": {},
   "outputs": [],
   "source": [
    "def hundredth_row(column):#拿第10行的值  自定义函数\n",
    "    hundredth_item = column.loc[10]\n",
    "    return hundredth_item"
   ]
  },
  {
   "cell_type": "code",
   "execution_count": 40,
   "metadata": {},
   "outputs": [],
   "source": [
    "hundredth_row = titanic_suval.apply(hundredth_row)"
   ]
  },
  {
   "cell_type": "code",
   "execution_count": 41,
   "metadata": {},
   "outputs": [
    {
     "name": "stdout",
     "output_type": "stream",
     "text": [
      "Passend         11\n",
      "Survivec         1\n",
      "Pclass           3\n",
      "Name           hrt\n",
      "Sex         female\n",
      "Age             34\n",
      "SibSp            0\n",
      "Parch            0\n",
      "Ticket        WERF\n",
      "Fare             8\n",
      "Cabin          NaN\n",
      "Embarked         S\n",
      "dtype: object\n"
     ]
    }
   ],
   "source": [
    "print(hundredth_row)"
   ]
  },
  {
   "cell_type": "code",
   "execution_count": 42,
   "metadata": {},
   "outputs": [],
   "source": [
    "def not_null_count(column):#统计缺少值\n",
    "    column_nul = pd.isnull(column)\n",
    "    null = column[column_nul]\n",
    "    return len(null)"
   ]
  },
  {
   "cell_type": "code",
   "execution_count": 43,
   "metadata": {},
   "outputs": [],
   "source": [
    "colum_null_count = titanic_suval.apply(not_null_count)"
   ]
  },
  {
   "cell_type": "code",
   "execution_count": 44,
   "metadata": {},
   "outputs": [
    {
     "name": "stdout",
     "output_type": "stream",
     "text": [
      "Passend      0\n",
      "Survivec     0\n",
      "Pclass       0\n",
      "Name         0\n",
      "Sex          0\n",
      "Age          1\n",
      "SibSp        0\n",
      "Parch        0\n",
      "Ticket       0\n",
      "Fare         0\n",
      "Cabin       10\n",
      "Embarked     0\n",
      "dtype: int64\n"
     ]
    }
   ],
   "source": [
    "print(colum_null_count)"
   ]
  },
  {
   "cell_type": "code",
   "execution_count": 45,
   "metadata": {},
   "outputs": [],
   "source": [
    "def is_minor(row):#判断年级小于30的\n",
    "    if row[\"Age\"] < 30:\n",
    "        return True\n",
    "    else:\n",
    "        return False"
   ]
  },
  {
   "cell_type": "code",
   "execution_count": 46,
   "metadata": {},
   "outputs": [],
   "source": [
    "minores = titanic_suval.apply(is_minor,axis=1)"
   ]
  },
  {
   "cell_type": "code",
   "execution_count": 47,
   "metadata": {},
   "outputs": [
    {
     "name": "stdout",
     "output_type": "stream",
     "text": [
      "0      True\n",
      "1     False\n",
      "2      True\n",
      "3      True\n",
      "4      True\n",
      "5     False\n",
      "6     False\n",
      "7     False\n",
      "8     False\n",
      "9     False\n",
      "10    False\n",
      "11    False\n",
      "dtype: bool\n"
     ]
    }
   ],
   "source": [
    "print(minores)"
   ]
  },
  {
   "cell_type": "code",
   "execution_count": 48,
   "metadata": {},
   "outputs": [],
   "source": [
    "def generate_age_label(row):\n",
    "    age = row[\"Age\"]\n",
    "    if pd.isnull(age):\n",
    "        return \"unknown\"\n",
    "    elif age < 30:\n",
    "        return \"minor\"\n",
    "    else:\n",
    "        return \"adult\""
   ]
  },
  {
   "cell_type": "code",
   "execution_count": 49,
   "metadata": {},
   "outputs": [],
   "source": [
    "age_labels = titanic_suval.apply(generate_age_label,axis=1)"
   ]
  },
  {
   "cell_type": "code",
   "execution_count": 50,
   "metadata": {},
   "outputs": [
    {
     "name": "stdout",
     "output_type": "stream",
     "text": [
      "0       minor\n",
      "1       adult\n",
      "2       minor\n",
      "3       minor\n",
      "4       minor\n",
      "5     unknown\n",
      "6       adult\n",
      "7       adult\n",
      "8       adult\n",
      "9       adult\n",
      "10      adult\n",
      "11      adult\n",
      "dtype: object\n"
     ]
    }
   ],
   "source": [
    "print(age_labels)"
   ]
  },
  {
   "cell_type": "code",
   "execution_count": 51,
   "metadata": {},
   "outputs": [],
   "source": [
    "titanic_suval[\"age_labels\"] = age_labels"
   ]
  },
  {
   "cell_type": "code",
   "execution_count": 52,
   "metadata": {},
   "outputs": [
    {
     "name": "stdout",
     "output_type": "stream",
     "text": [
      "    Passend  Survivec  Pclass        Name     Sex   Age  SibSp  Parch  \\\n",
      "0         1         0       3      dfaefd    male  22.0      1      0   \n",
      "1         2         1       1       fdsfd  female  38.0      1      0   \n",
      "2         3         0       3       asfsa  female  26.0      0      0   \n",
      "3         4         1       2       fdsgd  female  27.0      1      1   \n",
      "4         5         1       1      ertfds  female  28.0      1      0   \n",
      "5         6         0       3  fdggfdsgre  female   NaN      0      0   \n",
      "6         7         0       1       gfhgf  female  30.0      1      0   \n",
      "7         8         0       3        gfds  female  31.0      1      1   \n",
      "8         9         0       2         fgh  female  32.0      1      1   \n",
      "9        10         1       1         hfh  female  33.0      1      0   \n",
      "10       11         1       3         hrt  female  34.0      0      0   \n",
      "11       12         1       1        gfdg  female  35.0      1      1   \n",
      "\n",
      "       Ticket     Fare Cabin Embarked age_labels  \n",
      "0   A/5 21171   7.2500   NaN        S      minor  \n",
      "1          PC  71.2833   C85        C      adult  \n",
      "2        STON   7.8000   NaN        S      minor  \n",
      "3         FSD  58.0000   NaN        S      minor  \n",
      "4        STON  75.0000   NaN        C      minor  \n",
      "5        FSDF   8.0000   C35        S    unknown  \n",
      "6        DFSA  85.0000   NaN        S      adult  \n",
      "7        FREW   9.0000   NaN        S      adult  \n",
      "8         SDF  55.0000   NaN        S      adult  \n",
      "9         EWR  68.0000   NaN        C      adult  \n",
      "10       WERF   8.0000   NaN        S      adult  \n",
      "11         AS  84.0000   NaN        S      adult  \n"
     ]
    }
   ],
   "source": [
    "print(titanic_suval)"
   ]
  },
  {
   "cell_type": "code",
   "execution_count": 54,
   "metadata": {},
   "outputs": [],
   "source": [
    "age_group_survival = titanic_suval.pivot_table(index=\"age_labels\",values=\"Survivec\")#统计 各个年龄大获救概率"
   ]
  },
  {
   "cell_type": "code",
   "execution_count": 55,
   "metadata": {},
   "outputs": [
    {
     "name": "stdout",
     "output_type": "stream",
     "text": [
      "            Survivec\n",
      "age_labels          \n",
      "adult       0.571429\n",
      "minor       0.500000\n",
      "unknown     0.000000\n"
     ]
    }
   ],
   "source": [
    "print(age_group_survival)"
   ]
  },
  {
   "cell_type": "code",
   "execution_count": null,
   "metadata": {},
   "outputs": [],
   "source": []
  },
  {
   "cell_type": "code",
   "execution_count": null,
   "metadata": {},
   "outputs": [],
   "source": []
  },
  {
   "cell_type": "code",
   "execution_count": null,
   "metadata": {},
   "outputs": [],
   "source": []
  },
  {
   "cell_type": "code",
   "execution_count": null,
   "metadata": {},
   "outputs": [],
   "source": []
  },
  {
   "cell_type": "code",
   "execution_count": null,
   "metadata": {},
   "outputs": [],
   "source": []
  },
  {
   "cell_type": "code",
   "execution_count": null,
   "metadata": {},
   "outputs": [],
   "source": []
  },
  {
   "cell_type": "code",
   "execution_count": null,
   "metadata": {},
   "outputs": [],
   "source": []
  },
  {
   "cell_type": "code",
   "execution_count": null,
   "metadata": {},
   "outputs": [],
   "source": []
  },
  {
   "cell_type": "code",
   "execution_count": null,
   "metadata": {},
   "outputs": [],
   "source": []
  },
  {
   "cell_type": "code",
   "execution_count": null,
   "metadata": {},
   "outputs": [],
   "source": []
  },
  {
   "cell_type": "code",
   "execution_count": null,
   "metadata": {},
   "outputs": [],
   "source": []
  },
  {
   "cell_type": "code",
   "execution_count": null,
   "metadata": {},
   "outputs": [],
   "source": []
  },
  {
   "cell_type": "code",
   "execution_count": null,
   "metadata": {},
   "outputs": [],
   "source": []
  },
  {
   "cell_type": "code",
   "execution_count": null,
   "metadata": {},
   "outputs": [],
   "source": []
  },
  {
   "cell_type": "code",
   "execution_count": null,
   "metadata": {},
   "outputs": [],
   "source": []
  },
  {
   "cell_type": "code",
   "execution_count": null,
   "metadata": {},
   "outputs": [],
   "source": []
  },
  {
   "cell_type": "code",
   "execution_count": null,
   "metadata": {},
   "outputs": [],
   "source": []
  }
 ],
 "metadata": {
  "kernelspec": {
   "display_name": "Python 3",
   "language": "python",
   "name": "python3"
  },
  "language_info": {
   "codemirror_mode": {
    "name": "ipython",
    "version": 3
   },
   "file_extension": ".py",
   "mimetype": "text/x-python",
   "name": "python",
   "nbconvert_exporter": "python",
   "pygments_lexer": "ipython3",
   "version": "3.6.5"
  }
 },
 "nbformat": 4,
 "nbformat_minor": 2
}
