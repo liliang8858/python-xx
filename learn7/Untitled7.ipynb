{
 "cells": [
  {
   "cell_type": "code",
   "execution_count": 5,
   "metadata": {},
   "outputs": [],
   "source": [
    "import pandas as pd"
   ]
  },
  {
   "cell_type": "code",
   "execution_count": 6,
   "metadata": {},
   "outputs": [],
   "source": [
    "fandango = pd.read_csv(\"movie.csv\")"
   ]
  },
  {
   "cell_type": "code",
   "execution_count": 7,
   "metadata": {},
   "outputs": [
    {
     "name": "stdout",
     "output_type": "stream",
     "text": [
      "             FILM  RottenTow1  RottenTow2  Metacrit  Fandango  Fandange  \\\n",
      "0    Afdaa fdsaf1          74          80        66       7.1       7.8   \n",
      "1    Afdaa fdsaf2          75          81        67       8.1       8.8   \n",
      "2    Afdaa fdsaf3          76          82        68       9.1       9.8   \n",
      "3    Afdaa fdsaf4          77          80        69      10.1      10.8   \n",
      "4    Afdaa fdsaf5          78          81        70      11.1      11.8   \n",
      "5    Afdaa fdsaf6          79          82        71      12.1      12.8   \n",
      "6    Afdaa fdsaf7          80          82        72      13.1      13.8   \n",
      "7    Afdaa fdsaf8          81          80        66       7.1      14.8   \n",
      "8    Afdaa fdsaf9          77          81        67       8.1      15.8   \n",
      "9   Afdaa fdsaf10          78          82        68       9.1       4.3   \n",
      "10  Afdaa fdsaf11          79          87        69      10.1       5.3   \n",
      "11  Afdaa fdsaf12          80          82        70      11.1       6.3   \n",
      "12  Afdaa fdsaf13          79          80        78      12.1       7.3   \n",
      "13  Afdaa fdsaf14          80          81        79       7.1       8.3   \n",
      "14  Afdaa fdsaf15          81          82        66       8.1       9.3   \n",
      "15  Afdaa fdsaf16          77          95        67       9.1      10.3   \n",
      "16  Afdaa fdsaf17          81          82        68      10.1      23.8   \n",
      "17  Afdaa fdsaf18          77          80        69      11.1       4.3   \n",
      "18  Afdaa fdsaf19          78          81        70       7.1       5.3   \n",
      "19  Afdaa fdsaf20          79          82        85       8.1       6.3   \n",
      "20  Afdaa fdsaf21          80          80        66       9.1       7.3   \n",
      "21  Afdaa fdsaf22          79          81        67      10.1       8.3   \n",
      "\n",
      "    RT_norm  RT_user  Metacri  Weatice  IMI6_norw  RT_norm_r  RSDdd  \n",
      "0       5.0      4.5      3.7      4.3        3.3       3.55    3.9  \n",
      "1       6.0      5.5      4.7      4.3        4.3       4.55    4.9  \n",
      "2       7.0      6.5      5.7      5.3        5.3       5.55    5.9  \n",
      "3       8.0      7.5      6.7      6.3        6.3       4.30    6.9  \n",
      "4       9.0      8.5      7.7      7.3        7.3       5.30    4.3  \n",
      "5      10.0      9.5      8.7      8.3        8.3       6.30    5.3  \n",
      "6      11.0     10.5      9.7      9.3        9.3       7.30    6.3  \n",
      "7      12.0      4.3     10.7     10.3       10.3       8.30    7.3  \n",
      "8      13.0      5.3      4.3     12.3       11.3       9.30    8.3  \n",
      "9       4.3      6.3      5.3     13.3       12.3      10.30    9.3  \n",
      "10      5.3      7.3      6.3     14.3       13.3      13.55   10.3  \n",
      "11      6.3      8.3      7.3     15.3       14.3      14.55   14.9  \n",
      "12      7.3      9.3      8.3     16.3       15.3      15.55   15.9  \n",
      "13      8.3     10.3      9.3      6.3       16.3      16.55   16.9  \n",
      "14      9.3      5.3     10.3      4.3       17.3      17.55    4.3  \n",
      "15     10.3      6.3      6.7      5.3       18.3      18.55    5.3  \n",
      "16     21.0      7.3      7.7      6.3       19.3      19.55    6.3  \n",
      "17     22.0      8.3      8.7      7.3       20.3      20.55    7.3  \n",
      "18      4.3      9.3      9.7      8.3       21.3      21.55    8.3  \n",
      "19      5.3     10.3      4.3      9.3       22.3      22.55    9.3  \n",
      "20      6.3     24.5      5.3     10.3       23.3      23.55   10.3  \n",
      "21      7.3     25.5      6.3     25.3       24.3      24.55   24.9  \n"
     ]
    }
   ],
   "source": [
    "print(fandango)"
   ]
  },
  {
   "cell_type": "code",
   "execution_count": 8,
   "metadata": {},
   "outputs": [],
   "source": [
    "series_film = fandango[\"FILM\"]"
   ]
  },
  {
   "cell_type": "code",
   "execution_count": 9,
   "metadata": {},
   "outputs": [
    {
     "name": "stdout",
     "output_type": "stream",
     "text": [
      "0      Afdaa fdsaf1\n",
      "1      Afdaa fdsaf2\n",
      "2      Afdaa fdsaf3\n",
      "3      Afdaa fdsaf4\n",
      "4      Afdaa fdsaf5\n",
      "5      Afdaa fdsaf6\n",
      "6      Afdaa fdsaf7\n",
      "7      Afdaa fdsaf8\n",
      "8      Afdaa fdsaf9\n",
      "9     Afdaa fdsaf10\n",
      "10    Afdaa fdsaf11\n",
      "11    Afdaa fdsaf12\n",
      "12    Afdaa fdsaf13\n",
      "13    Afdaa fdsaf14\n",
      "14    Afdaa fdsaf15\n",
      "15    Afdaa fdsaf16\n",
      "16    Afdaa fdsaf17\n",
      "17    Afdaa fdsaf18\n",
      "18    Afdaa fdsaf19\n",
      "19    Afdaa fdsaf20\n",
      "20    Afdaa fdsaf21\n",
      "21    Afdaa fdsaf22\n",
      "Name: FILM, dtype: object\n"
     ]
    }
   ],
   "source": [
    "print(series_film)"
   ]
  },
  {
   "cell_type": "code",
   "execution_count": 10,
   "metadata": {},
   "outputs": [],
   "source": [
    "film_names = series_film.values"
   ]
  },
  {
   "cell_type": "code",
   "execution_count": 11,
   "metadata": {},
   "outputs": [
    {
     "name": "stdout",
     "output_type": "stream",
     "text": [
      "<class 'numpy.ndarray'>\n"
     ]
    }
   ],
   "source": [
    "print(type(film_names))"
   ]
  },
  {
   "cell_type": "code",
   "execution_count": 12,
   "metadata": {},
   "outputs": [
    {
     "name": "stdout",
     "output_type": "stream",
     "text": [
      "['Afdaa fdsaf1' 'Afdaa fdsaf2' 'Afdaa fdsaf3' 'Afdaa fdsaf4'\n",
      " 'Afdaa fdsaf5' 'Afdaa fdsaf6' 'Afdaa fdsaf7' 'Afdaa fdsaf8'\n",
      " 'Afdaa fdsaf9' 'Afdaa fdsaf10' 'Afdaa fdsaf11' 'Afdaa fdsaf12'\n",
      " 'Afdaa fdsaf13' 'Afdaa fdsaf14' 'Afdaa fdsaf15' 'Afdaa fdsaf16'\n",
      " 'Afdaa fdsaf17' 'Afdaa fdsaf18' 'Afdaa fdsaf19' 'Afdaa fdsaf20'\n",
      " 'Afdaa fdsaf21' 'Afdaa fdsaf22']\n"
     ]
    }
   ],
   "source": [
    "print(film_names)"
   ]
  },
  {
   "cell_type": "code",
   "execution_count": 13,
   "metadata": {},
   "outputs": [],
   "source": [
    "series_rt = fandango['RottenTow2']"
   ]
  },
  {
   "cell_type": "code",
   "execution_count": 14,
   "metadata": {},
   "outputs": [],
   "source": [
    "rt_scores = series_rt.values"
   ]
  },
  {
   "cell_type": "code",
   "execution_count": 15,
   "metadata": {},
   "outputs": [],
   "source": [
    "from pandas import Series"
   ]
  },
  {
   "cell_type": "code",
   "execution_count": 16,
   "metadata": {},
   "outputs": [],
   "source": [
    "series_custom = Series(rt_scores,index=film_names)"
   ]
  },
  {
   "cell_type": "code",
   "execution_count": 17,
   "metadata": {},
   "outputs": [
    {
     "name": "stdout",
     "output_type": "stream",
     "text": [
      "Afdaa fdsaf1     80\n",
      "Afdaa fdsaf2     81\n",
      "Afdaa fdsaf3     82\n",
      "Afdaa fdsaf4     80\n",
      "Afdaa fdsaf5     81\n",
      "Afdaa fdsaf6     82\n",
      "Afdaa fdsaf7     82\n",
      "Afdaa fdsaf8     80\n",
      "Afdaa fdsaf9     81\n",
      "Afdaa fdsaf10    82\n",
      "Afdaa fdsaf11    87\n",
      "Afdaa fdsaf12    82\n",
      "Afdaa fdsaf13    80\n",
      "Afdaa fdsaf14    81\n",
      "Afdaa fdsaf15    82\n",
      "Afdaa fdsaf16    95\n",
      "Afdaa fdsaf17    82\n",
      "Afdaa fdsaf18    80\n",
      "Afdaa fdsaf19    81\n",
      "Afdaa fdsaf20    82\n",
      "Afdaa fdsaf21    80\n",
      "Afdaa fdsaf22    81\n",
      "dtype: int64\n"
     ]
    }
   ],
   "source": [
    "print(series_custom)"
   ]
  },
  {
   "cell_type": "code",
   "execution_count": 18,
   "metadata": {},
   "outputs": [],
   "source": [
    "origina_index = series_custom.index.tolist()"
   ]
  },
  {
   "cell_type": "code",
   "execution_count": 19,
   "metadata": {},
   "outputs": [
    {
     "name": "stdout",
     "output_type": "stream",
     "text": [
      "['Afdaa fdsaf1', 'Afdaa fdsaf2', 'Afdaa fdsaf3', 'Afdaa fdsaf4', 'Afdaa fdsaf5', 'Afdaa fdsaf6', 'Afdaa fdsaf7', 'Afdaa fdsaf8', 'Afdaa fdsaf9', 'Afdaa fdsaf10', 'Afdaa fdsaf11', 'Afdaa fdsaf12', 'Afdaa fdsaf13', 'Afdaa fdsaf14', 'Afdaa fdsaf15', 'Afdaa fdsaf16', 'Afdaa fdsaf17', 'Afdaa fdsaf18', 'Afdaa fdsaf19', 'Afdaa fdsaf20', 'Afdaa fdsaf21', 'Afdaa fdsaf22']\n"
     ]
    }
   ],
   "source": [
    "print(origina_index)"
   ]
  },
  {
   "cell_type": "code",
   "execution_count": 20,
   "metadata": {},
   "outputs": [],
   "source": [
    "sorted_indx = sorted(origina_index)"
   ]
  },
  {
   "cell_type": "code",
   "execution_count": 21,
   "metadata": {},
   "outputs": [],
   "source": [
    "sorted_by_index = series_custom.reindex(sorted_indx)"
   ]
  },
  {
   "cell_type": "code",
   "execution_count": 22,
   "metadata": {},
   "outputs": [
    {
     "name": "stdout",
     "output_type": "stream",
     "text": [
      "Afdaa fdsaf1     80\n",
      "Afdaa fdsaf10    82\n",
      "Afdaa fdsaf11    87\n",
      "Afdaa fdsaf12    82\n",
      "Afdaa fdsaf13    80\n",
      "Afdaa fdsaf14    81\n",
      "Afdaa fdsaf15    82\n",
      "Afdaa fdsaf16    95\n",
      "Afdaa fdsaf17    82\n",
      "Afdaa fdsaf18    80\n",
      "Afdaa fdsaf19    81\n",
      "Afdaa fdsaf2     81\n",
      "Afdaa fdsaf20    82\n",
      "Afdaa fdsaf21    80\n",
      "Afdaa fdsaf22    81\n",
      "Afdaa fdsaf3     82\n",
      "Afdaa fdsaf4     80\n",
      "Afdaa fdsaf5     81\n",
      "Afdaa fdsaf6     82\n",
      "Afdaa fdsaf7     82\n",
      "Afdaa fdsaf8     80\n",
      "Afdaa fdsaf9     81\n",
      "dtype: int64\n"
     ]
    }
   ],
   "source": [
    "print(sorted_by_index)"
   ]
  },
  {
   "cell_type": "code",
   "execution_count": 23,
   "metadata": {},
   "outputs": [],
   "source": [
    "sc2 = series_custom.sort_index"
   ]
  },
  {
   "cell_type": "code",
   "execution_count": 24,
   "metadata": {},
   "outputs": [],
   "source": [
    "sc3 = series_custom.sort_values"
   ]
  },
  {
   "cell_type": "code",
   "execution_count": 25,
   "metadata": {},
   "outputs": [
    {
     "name": "stdout",
     "output_type": "stream",
     "text": [
      "<bound method Series.sort_index of Afdaa fdsaf1     80\n",
      "Afdaa fdsaf2     81\n",
      "Afdaa fdsaf3     82\n",
      "Afdaa fdsaf4     80\n",
      "Afdaa fdsaf5     81\n",
      "Afdaa fdsaf6     82\n",
      "Afdaa fdsaf7     82\n",
      "Afdaa fdsaf8     80\n",
      "Afdaa fdsaf9     81\n",
      "Afdaa fdsaf10    82\n",
      "Afdaa fdsaf11    87\n",
      "Afdaa fdsaf12    82\n",
      "Afdaa fdsaf13    80\n",
      "Afdaa fdsaf14    81\n",
      "Afdaa fdsaf15    82\n",
      "Afdaa fdsaf16    95\n",
      "Afdaa fdsaf17    82\n",
      "Afdaa fdsaf18    80\n",
      "Afdaa fdsaf19    81\n",
      "Afdaa fdsaf20    82\n",
      "Afdaa fdsaf21    80\n",
      "Afdaa fdsaf22    81\n",
      "dtype: int64>\n"
     ]
    }
   ],
   "source": [
    "print(sc2)"
   ]
  },
  {
   "cell_type": "code",
   "execution_count": 26,
   "metadata": {},
   "outputs": [
    {
     "name": "stdout",
     "output_type": "stream",
     "text": [
      "<bound method Series.sort_values of Afdaa fdsaf1     80\n",
      "Afdaa fdsaf2     81\n",
      "Afdaa fdsaf3     82\n",
      "Afdaa fdsaf4     80\n",
      "Afdaa fdsaf5     81\n",
      "Afdaa fdsaf6     82\n",
      "Afdaa fdsaf7     82\n",
      "Afdaa fdsaf8     80\n",
      "Afdaa fdsaf9     81\n",
      "Afdaa fdsaf10    82\n",
      "Afdaa fdsaf11    87\n",
      "Afdaa fdsaf12    82\n",
      "Afdaa fdsaf13    80\n",
      "Afdaa fdsaf14    81\n",
      "Afdaa fdsaf15    82\n",
      "Afdaa fdsaf16    95\n",
      "Afdaa fdsaf17    82\n",
      "Afdaa fdsaf18    80\n",
      "Afdaa fdsaf19    81\n",
      "Afdaa fdsaf20    82\n",
      "Afdaa fdsaf21    80\n",
      "Afdaa fdsaf22    81\n",
      "dtype: int64>\n"
     ]
    }
   ],
   "source": [
    "print(sc3)"
   ]
  },
  {
   "cell_type": "code",
   "execution_count": 27,
   "metadata": {},
   "outputs": [],
   "source": [
    "series_greater_than_80 = series_custom[series_custom > 80]"
   ]
  },
  {
   "cell_type": "code",
   "execution_count": 28,
   "metadata": {},
   "outputs": [
    {
     "name": "stdout",
     "output_type": "stream",
     "text": [
      "Afdaa fdsaf2     81\n",
      "Afdaa fdsaf3     82\n",
      "Afdaa fdsaf5     81\n",
      "Afdaa fdsaf6     82\n",
      "Afdaa fdsaf7     82\n",
      "Afdaa fdsaf9     81\n",
      "Afdaa fdsaf10    82\n",
      "Afdaa fdsaf11    87\n",
      "Afdaa fdsaf12    82\n",
      "Afdaa fdsaf14    81\n",
      "Afdaa fdsaf15    82\n",
      "Afdaa fdsaf16    95\n",
      "Afdaa fdsaf17    82\n",
      "Afdaa fdsaf19    81\n",
      "Afdaa fdsaf20    82\n",
      "Afdaa fdsaf22    81\n",
      "dtype: int64\n"
     ]
    }
   ],
   "source": [
    "print(series_greater_than_80)"
   ]
  },
  {
   "cell_type": "code",
   "execution_count": 29,
   "metadata": {},
   "outputs": [],
   "source": [
    "fandango_films = fandango.set_index('FILM',drop=False)"
   ]
  },
  {
   "cell_type": "code",
   "execution_count": 30,
   "metadata": {},
   "outputs": [
    {
     "name": "stdout",
     "output_type": "stream",
     "text": [
      "Index(['Afdaa fdsaf1', 'Afdaa fdsaf2', 'Afdaa fdsaf3', 'Afdaa fdsaf4',\n",
      "       'Afdaa fdsaf5', 'Afdaa fdsaf6', 'Afdaa fdsaf7', 'Afdaa fdsaf8',\n",
      "       'Afdaa fdsaf9', 'Afdaa fdsaf10', 'Afdaa fdsaf11', 'Afdaa fdsaf12',\n",
      "       'Afdaa fdsaf13', 'Afdaa fdsaf14', 'Afdaa fdsaf15', 'Afdaa fdsaf16',\n",
      "       'Afdaa fdsaf17', 'Afdaa fdsaf18', 'Afdaa fdsaf19', 'Afdaa fdsaf20',\n",
      "       'Afdaa fdsaf21', 'Afdaa fdsaf22'],\n",
      "      dtype='object', name='FILM')\n"
     ]
    }
   ],
   "source": [
    "print(fandango_films.index)"
   ]
  },
  {
   "cell_type": "code",
   "execution_count": 31,
   "metadata": {},
   "outputs": [
    {
     "data": {
      "text/html": [
       "<div>\n",
       "<style scoped>\n",
       "    .dataframe tbody tr th:only-of-type {\n",
       "        vertical-align: middle;\n",
       "    }\n",
       "\n",
       "    .dataframe tbody tr th {\n",
       "        vertical-align: top;\n",
       "    }\n",
       "\n",
       "    .dataframe thead th {\n",
       "        text-align: right;\n",
       "    }\n",
       "</style>\n",
       "<table border=\"1\" class=\"dataframe\">\n",
       "  <thead>\n",
       "    <tr style=\"text-align: right;\">\n",
       "      <th></th>\n",
       "      <th>FILM</th>\n",
       "      <th>RottenTow1</th>\n",
       "      <th>RottenTow2</th>\n",
       "      <th>Metacrit</th>\n",
       "      <th>Fandango</th>\n",
       "      <th>Fandange</th>\n",
       "      <th>RT_norm</th>\n",
       "      <th>RT_user</th>\n",
       "      <th>Metacri</th>\n",
       "      <th>Weatice</th>\n",
       "      <th>IMI6_norw</th>\n",
       "      <th>RT_norm_r</th>\n",
       "      <th>RSDdd</th>\n",
       "    </tr>\n",
       "    <tr>\n",
       "      <th>FILM</th>\n",
       "      <th></th>\n",
       "      <th></th>\n",
       "      <th></th>\n",
       "      <th></th>\n",
       "      <th></th>\n",
       "      <th></th>\n",
       "      <th></th>\n",
       "      <th></th>\n",
       "      <th></th>\n",
       "      <th></th>\n",
       "      <th></th>\n",
       "      <th></th>\n",
       "      <th></th>\n",
       "    </tr>\n",
       "  </thead>\n",
       "  <tbody>\n",
       "    <tr>\n",
       "      <th>Afdaa fdsaf5</th>\n",
       "      <td>Afdaa fdsaf5</td>\n",
       "      <td>78</td>\n",
       "      <td>81</td>\n",
       "      <td>70</td>\n",
       "      <td>11.1</td>\n",
       "      <td>11.8</td>\n",
       "      <td>9.0</td>\n",
       "      <td>8.5</td>\n",
       "      <td>7.7</td>\n",
       "      <td>7.3</td>\n",
       "      <td>7.3</td>\n",
       "      <td>5.3</td>\n",
       "      <td>4.3</td>\n",
       "    </tr>\n",
       "    <tr>\n",
       "      <th>Afdaa fdsaf6</th>\n",
       "      <td>Afdaa fdsaf6</td>\n",
       "      <td>79</td>\n",
       "      <td>82</td>\n",
       "      <td>71</td>\n",
       "      <td>12.1</td>\n",
       "      <td>12.8</td>\n",
       "      <td>10.0</td>\n",
       "      <td>9.5</td>\n",
       "      <td>8.7</td>\n",
       "      <td>8.3</td>\n",
       "      <td>8.3</td>\n",
       "      <td>6.3</td>\n",
       "      <td>5.3</td>\n",
       "    </tr>\n",
       "    <tr>\n",
       "      <th>Afdaa fdsaf7</th>\n",
       "      <td>Afdaa fdsaf7</td>\n",
       "      <td>80</td>\n",
       "      <td>82</td>\n",
       "      <td>72</td>\n",
       "      <td>13.1</td>\n",
       "      <td>13.8</td>\n",
       "      <td>11.0</td>\n",
       "      <td>10.5</td>\n",
       "      <td>9.7</td>\n",
       "      <td>9.3</td>\n",
       "      <td>9.3</td>\n",
       "      <td>7.3</td>\n",
       "      <td>6.3</td>\n",
       "    </tr>\n",
       "    <tr>\n",
       "      <th>Afdaa fdsaf8</th>\n",
       "      <td>Afdaa fdsaf8</td>\n",
       "      <td>81</td>\n",
       "      <td>80</td>\n",
       "      <td>66</td>\n",
       "      <td>7.1</td>\n",
       "      <td>14.8</td>\n",
       "      <td>12.0</td>\n",
       "      <td>4.3</td>\n",
       "      <td>10.7</td>\n",
       "      <td>10.3</td>\n",
       "      <td>10.3</td>\n",
       "      <td>8.3</td>\n",
       "      <td>7.3</td>\n",
       "    </tr>\n",
       "    <tr>\n",
       "      <th>Afdaa fdsaf9</th>\n",
       "      <td>Afdaa fdsaf9</td>\n",
       "      <td>77</td>\n",
       "      <td>81</td>\n",
       "      <td>67</td>\n",
       "      <td>8.1</td>\n",
       "      <td>15.8</td>\n",
       "      <td>13.0</td>\n",
       "      <td>5.3</td>\n",
       "      <td>4.3</td>\n",
       "      <td>12.3</td>\n",
       "      <td>11.3</td>\n",
       "      <td>9.3</td>\n",
       "      <td>8.3</td>\n",
       "    </tr>\n",
       "  </tbody>\n",
       "</table>\n",
       "</div>"
      ],
      "text/plain": [
       "                      FILM  RottenTow1  RottenTow2  Metacrit  Fandango  \\\n",
       "FILM                                                                     \n",
       "Afdaa fdsaf5  Afdaa fdsaf5          78          81        70      11.1   \n",
       "Afdaa fdsaf6  Afdaa fdsaf6          79          82        71      12.1   \n",
       "Afdaa fdsaf7  Afdaa fdsaf7          80          82        72      13.1   \n",
       "Afdaa fdsaf8  Afdaa fdsaf8          81          80        66       7.1   \n",
       "Afdaa fdsaf9  Afdaa fdsaf9          77          81        67       8.1   \n",
       "\n",
       "              Fandange  RT_norm  RT_user  Metacri  Weatice  IMI6_norw  \\\n",
       "FILM                                                                    \n",
       "Afdaa fdsaf5      11.8      9.0      8.5      7.7      7.3        7.3   \n",
       "Afdaa fdsaf6      12.8     10.0      9.5      8.7      8.3        8.3   \n",
       "Afdaa fdsaf7      13.8     11.0     10.5      9.7      9.3        9.3   \n",
       "Afdaa fdsaf8      14.8     12.0      4.3     10.7     10.3       10.3   \n",
       "Afdaa fdsaf9      15.8     13.0      5.3      4.3     12.3       11.3   \n",
       "\n",
       "              RT_norm_r  RSDdd  \n",
       "FILM                            \n",
       "Afdaa fdsaf5        5.3    4.3  \n",
       "Afdaa fdsaf6        6.3    5.3  \n",
       "Afdaa fdsaf7        7.3    6.3  \n",
       "Afdaa fdsaf8        8.3    7.3  \n",
       "Afdaa fdsaf9        9.3    8.3  "
      ]
     },
     "execution_count": 31,
     "metadata": {},
     "output_type": "execute_result"
    }
   ],
   "source": [
    "fandango_films[\"Afdaa fdsaf5\":\"Afdaa fdsaf9\"]"
   ]
  },
  {
   "cell_type": "code",
   "execution_count": null,
   "metadata": {},
   "outputs": [],
   "source": []
  },
  {
   "cell_type": "code",
   "execution_count": null,
   "metadata": {},
   "outputs": [],
   "source": []
  },
  {
   "cell_type": "code",
   "execution_count": null,
   "metadata": {},
   "outputs": [],
   "source": []
  },
  {
   "cell_type": "code",
   "execution_count": null,
   "metadata": {},
   "outputs": [],
   "source": []
  },
  {
   "cell_type": "code",
   "execution_count": null,
   "metadata": {},
   "outputs": [],
   "source": []
  },
  {
   "cell_type": "code",
   "execution_count": null,
   "metadata": {},
   "outputs": [],
   "source": []
  },
  {
   "cell_type": "code",
   "execution_count": null,
   "metadata": {},
   "outputs": [],
   "source": []
  },
  {
   "cell_type": "code",
   "execution_count": null,
   "metadata": {},
   "outputs": [],
   "source": []
  },
  {
   "cell_type": "code",
   "execution_count": null,
   "metadata": {},
   "outputs": [],
   "source": []
  },
  {
   "cell_type": "code",
   "execution_count": null,
   "metadata": {},
   "outputs": [],
   "source": []
  },
  {
   "cell_type": "code",
   "execution_count": null,
   "metadata": {},
   "outputs": [],
   "source": []
  },
  {
   "cell_type": "code",
   "execution_count": null,
   "metadata": {},
   "outputs": [],
   "source": []
  },
  {
   "cell_type": "code",
   "execution_count": null,
   "metadata": {},
   "outputs": [],
   "source": []
  },
  {
   "cell_type": "code",
   "execution_count": null,
   "metadata": {},
   "outputs": [],
   "source": []
  },
  {
   "cell_type": "code",
   "execution_count": null,
   "metadata": {},
   "outputs": [],
   "source": []
  }
 ],
 "metadata": {
  "kernelspec": {
   "display_name": "Python 3",
   "language": "python",
   "name": "python3"
  },
  "language_info": {
   "codemirror_mode": {
    "name": "ipython",
    "version": 3
   },
   "file_extension": ".py",
   "mimetype": "text/x-python",
   "name": "python",
   "nbconvert_exporter": "python",
   "pygments_lexer": "ipython3",
   "version": "3.6.5"
  }
 },
 "nbformat": 4,
 "nbformat_minor": 2
}
