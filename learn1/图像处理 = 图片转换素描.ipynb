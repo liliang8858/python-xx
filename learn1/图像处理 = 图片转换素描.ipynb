{
 "cells": [
  {
   "cell_type": "markdown",
   "metadata": {},
   "source": [
    "PIL :  图像处理模块   .jpg .png  .gif"
   ]
  },
  {
   "cell_type": "code",
   "execution_count": 38,
   "metadata": {},
   "outputs": [],
   "source": [
    "from PIL import Image"
   ]
  },
  {
   "cell_type": "code",
   "execution_count": 39,
   "metadata": {},
   "outputs": [],
   "source": [
    "img = Image.open(\"fengjing2.jpg\")"
   ]
  },
  {
   "cell_type": "code",
   "execution_count": 40,
   "metadata": {},
   "outputs": [
    {
     "name": "stdout",
     "output_type": "stream",
     "text": [
      "<PIL.JpegImagePlugin.JpegImageFile image mode=RGB size=720x540 at 0x1CD2E8C04A8>\n"
     ]
    }
   ],
   "source": [
    "print(img)"
   ]
  },
  {
   "cell_type": "code",
   "execution_count": 41,
   "metadata": {},
   "outputs": [
    {
     "name": "stdout",
     "output_type": "stream",
     "text": [
      "RGB\n"
     ]
    }
   ],
   "source": [
    "print(img.mode) #检查 是一个RGB 图像"
   ]
  },
  {
   "cell_type": "code",
   "execution_count": 42,
   "metadata": {
    "scrolled": true
   },
   "outputs": [
    {
     "name": "stdout",
     "output_type": "stream",
     "text": [
      "(720, 540)\n"
     ]
    }
   ],
   "source": [
    "print(img.size)"
   ]
  },
  {
   "cell_type": "code",
   "execution_count": 43,
   "metadata": {},
   "outputs": [],
   "source": [
    "ima_get = img.getpixel((0,0))"
   ]
  },
  {
   "cell_type": "code",
   "execution_count": 44,
   "metadata": {},
   "outputs": [
    {
     "name": "stdout",
     "output_type": "stream",
     "text": [
      "(150, 151, 146)\n"
     ]
    }
   ],
   "source": [
    "print(ima_get) #三原色通道(37, 80, 114) "
   ]
  },
  {
   "cell_type": "code",
   "execution_count": 45,
   "metadata": {},
   "outputs": [],
   "source": [
    "img_L = img.convert('L') #转换像素 灰度值"
   ]
  },
  {
   "cell_type": "code",
   "execution_count": 46,
   "metadata": {},
   "outputs": [
    {
     "name": "stdout",
     "output_type": "stream",
     "text": [
      "<PIL.Image.Image image mode=L size=720x540 at 0x1CD2ECB31D0>\n"
     ]
    }
   ],
   "source": [
    "print(img_L)"
   ]
  },
  {
   "cell_type": "code",
   "execution_count": 47,
   "metadata": {},
   "outputs": [],
   "source": [
    "img_get_L = img_L.getpixel((0,0))"
   ]
  },
  {
   "cell_type": "code",
   "execution_count": 48,
   "metadata": {},
   "outputs": [
    {
     "name": "stdout",
     "output_type": "stream",
     "text": [
      "150\n"
     ]
    }
   ],
   "source": [
    "print(img_get_L)#灰度值 换算后  71"
   ]
  },
  {
   "cell_type": "markdown",
   "metadata": {},
   "source": [
    "图像的组成：  红绿蓝 （R G B） 三原色组成\n",
    "(255,255,255) 一个像素  24位   256 级别 (0~255) 亮度\n",
    "灰度图像：三维 R G B (800*600*3)\n",
    "               行 列  分量\n",
    "               "
   ]
  },
  {
   "cell_type": "code",
   "execution_count": 49,
   "metadata": {},
   "outputs": [],
   "source": [
    "new = Image.new(\"L\",img.size,255) #根据 img 新new一个图像"
   ]
  },
  {
   "cell_type": "code",
   "execution_count": 50,
   "metadata": {},
   "outputs": [
    {
     "name": "stdout",
     "output_type": "stream",
     "text": [
      "<PIL.Image.Image image mode=L size=720x540 at 0x1CD2E8C0B00>\n"
     ]
    }
   ],
   "source": [
    "print(new)"
   ]
  },
  {
   "cell_type": "markdown",
   "metadata": {},
   "source": [
    "----->>>> RGB  换算成 灰度值 公式如下：<<<-------\n",
    "0.299*R  + 0.587*G +  0.114*B\n",
    "(37, 80, 114)  = 71"
   ]
  },
  {
   "cell_type": "code",
   "execution_count": 51,
   "metadata": {},
   "outputs": [
    {
     "data": {
      "text/plain": [
       "71.01899999999999"
      ]
     },
     "execution_count": 51,
     "metadata": {},
     "output_type": "execute_result"
    }
   ],
   "source": [
    "0.299*37+0.587*80+0.114*114"
   ]
  },
  {
   "cell_type": "code",
   "execution_count": 52,
   "metadata": {},
   "outputs": [],
   "source": [
    "width,height=img.size"
   ]
  },
  {
   "cell_type": "code",
   "execution_count": 53,
   "metadata": {},
   "outputs": [],
   "source": [
    "img = img.convert('L')"
   ]
  },
  {
   "cell_type": "code",
   "execution_count": 54,
   "metadata": {},
   "outputs": [],
   "source": [
    "#画笔大小\n",
    "Pen_size=3\n",
    "#色差扩散器 \n",
    "Color_Diff=6"
   ]
  },
  {
   "cell_type": "code",
   "execution_count": 55,
   "metadata": {},
   "outputs": [],
   "source": [
    "for i in range(Pen_size+1,width-Pen_size-1):\n",
    "    for j in range(Pen_size+1,height-Pen_size-1):\n",
    "        #原始颜色\n",
    "        originalColor = 255\n",
    "        #获取像素值\n",
    "        lcolor = sum([img.getpixel((i-r,j))for r in range(Pen_size)])\n",
    "        rcolor = sum([img.getpixel((i+r,j))for r in range(Pen_size)])\n",
    "        # 通道 ==== 颜色\n",
    "        if abs(lcolor-rcolor)>Color_Diff:\n",
    "            #计算两次颜色\n",
    "            originalColor -= (255-img.getpixel((i,j)))\n",
    "            #加载图像，计算的值赋予这个新的图像\n",
    "            new.putpixel((i,j),originalColor)\n",
    "        #获取像素值\n",
    "        ucolor = sum([img.getpixel((i,j-r))for r in range(Pen_size)])\n",
    "        dcolor = sum([img.getpixel((i,j+r))for r in range(Pen_size)])\n",
    "        # 通道 ==== 颜色\n",
    "        if abs(ucolor-dcolor)>Color_Diff:\n",
    "            #计算两次颜色\n",
    "            originalColor -= (255-img.getpixel((i,j)))\n",
    "            #加载图像，计算的值赋予这个新的图像\n",
    "            new.putpixel((i,j),originalColor)\n",
    "            \n",
    "        "
   ]
  },
  {
   "cell_type": "code",
   "execution_count": 56,
   "metadata": {},
   "outputs": [],
   "source": [
    "#保存图像\n",
    "new.save('qq166.jpg')"
   ]
  },
  {
   "cell_type": "code",
   "execution_count": null,
   "metadata": {},
   "outputs": [],
   "source": []
  },
  {
   "cell_type": "code",
   "execution_count": null,
   "metadata": {},
   "outputs": [],
   "source": []
  },
  {
   "cell_type": "code",
   "execution_count": null,
   "metadata": {},
   "outputs": [],
   "source": []
  }
 ],
 "metadata": {
  "kernelspec": {
   "display_name": "Python 3",
   "language": "python",
   "name": "python3"
  },
  "language_info": {
   "codemirror_mode": {
    "name": "ipython",
    "version": 3
   },
   "file_extension": ".py",
   "mimetype": "text/x-python",
   "name": "python",
   "nbconvert_exporter": "python",
   "pygments_lexer": "ipython3",
   "version": "3.6.5"
  }
 },
 "nbformat": 4,
 "nbformat_minor": 2
}
