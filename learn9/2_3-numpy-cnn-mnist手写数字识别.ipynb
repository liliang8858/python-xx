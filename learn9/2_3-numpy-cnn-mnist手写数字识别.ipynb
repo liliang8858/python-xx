{
 "cells": [
  {
   "cell_type": "markdown",
   "metadata": {},
   "source": [
    "## 一、定义前向、后向传播\n",
    "\n",
    "本文将用numpy实现cnn, 并测试mnist手写数字识别\n",
    "\n",
    "如果对神经网络的反向传播过程还有不清楚的，可以参考 [全连接层、损失函数的反向传播](0_1-全连接层、损失函数的反向传播.md)、[卷积层的反向传播](0_2_4-卷积层的反向传播-多通道、有padding、步长不为1.md)、[池化层的反向传播](0_2_5-池化层的反向传播-MaxPooling、AveragePooling、GlobalAveragePooling.md)\n",
    "\n",
    "网络结构如下,包括1个卷积层,1个最大池化层，1个打平层2个全连接层：\n",
    "\n",
    "input(1,28\\*28)=> conv(1,3,3) => relu => max pooling => flatten => fc(64) => relu => fc(10)\n",
    "\n",
    "这里定义卷积层只有一个输出通道,全连接层的神经元也只有64个神经元;主要是由于纯numpy的神经网络比较慢，本文主要目的理解神经网络的反向传播过程，以及如何用numpy实现神经网络，因此不追求设计最合适的网络结构;numpy实现的实现的神经网络无法应用到实际的项目中，请使用深度学习框架(如：Tensorflow、Keras、Caffe等)"
   ]
  },
  {
   "cell_type": "code",
   "execution_count": 6,
   "metadata": {},
   "outputs": [],
   "source": [
    "# 定义权重、神经元、梯度\n",
    "import numpy as np\n",
    "weights = {}\n",
    "weights_scale = 1e-2\n",
    "filters = 1\n",
    "fc_units=64\n",
    "weights[\"K1\"] = weights_scale * np.random.randn(1, filters, 3, 3).astype(np.float64)\n",
    "weights[\"b1\"] = np.zeros(filters).astype(np.float64)\n",
    "weights[\"W2\"] = weights_scale * np.random.randn(filters * 13 * 13, fc_units).astype(np.float64)\n",
    "weights[\"b2\"] = np.zeros(fc_units).astype(np.float64)\n",
    "weights[\"W3\"] = weights_scale * np.random.randn(fc_units, 10).astype(np.float64)\n",
    "weights[\"b3\"] = np.zeros(10).astype(np.float64)\n",
    "\n",
    "# 初始化神经元和梯度\n",
    "nuerons={}\n",
    "gradients={}"
   ]
  },
  {
   "cell_type": "code",
   "execution_count": 7,
   "metadata": {
    "collapsed": true
   },
   "outputs": [],
   "source": [
    "# 定义前向传播和反向传播\n",
    "from nn.layers import conv_backward,fc_forward,fc_backward\n",
    "from nn.layers import flatten_forward,flatten_backward\n",
    "from nn.activations import relu_forward,relu_backward\n",
    "from nn.losses import cross_entropy_loss\n",
    "\n",
    "import pyximport\n",
    "pyximport.install()\n",
    "from nn.clayers import conv_forward,max_pooling_forward,max_pooling_backward\n",
    "\n",
    "\n",
    "\n",
    "# 定义前向传播\n",
    "def forward(X):\n",
    "    nuerons[\"conv1\"]=conv_forward(X.astype(np.float64),weights[\"K1\"],weights[\"b1\"])\n",
    "    nuerons[\"conv1_relu\"]=relu_forward(nuerons[\"conv1\"])\n",
    "    nuerons[\"maxp1\"]=max_pooling_forward(nuerons[\"conv1_relu\"].astype(np.float64),pooling=(2,2))\n",
    "\n",
    "    nuerons[\"flatten\"]=flatten_forward(nuerons[\"maxp1\"])\n",
    "    \n",
    "    nuerons[\"fc2\"]=fc_forward(nuerons[\"flatten\"],weights[\"W2\"],weights[\"b2\"])\n",
    "    nuerons[\"fc2_relu\"]=relu_forward(nuerons[\"fc2\"])\n",
    "    \n",
    "    nuerons[\"y\"]=fc_forward(nuerons[\"fc2_relu\"],weights[\"W3\"],weights[\"b3\"])\n",
    "\n",
    "    return nuerons[\"y\"]\n",
    "\n",
    "# 定义反向传播\n",
    "def backward(X,y_true):\n",
    "    loss,dy=cross_entropy_loss(nuerons[\"y\"],y_true)\n",
    "    gradients[\"W3\"],gradients[\"b3\"],gradients[\"fc2_relu\"]=fc_backward(dy,weights[\"W3\"],nuerons[\"fc2_relu\"])\n",
    "    gradients[\"fc2\"]=relu_backward(gradients[\"fc2_relu\"],nuerons[\"fc2\"])\n",
    "    \n",
    "    gradients[\"W2\"],gradients[\"b2\"],gradients[\"flatten\"]=fc_backward(gradients[\"fc2\"],weights[\"W2\"],nuerons[\"flatten\"])\n",
    "    \n",
    "    gradients[\"maxp1\"]=flatten_backward(gradients[\"flatten\"],nuerons[\"maxp1\"])\n",
    "       \n",
    "    gradients[\"conv1_relu\"]=max_pooling_backward(gradients[\"maxp1\"].astype(np.float64),nuerons[\"conv1_relu\"].astype(np.float64),pooling=(2,2))\n",
    "    gradients[\"conv1\"]=relu_backward(gradients[\"conv1_relu\"],nuerons[\"conv1\"])\n",
    "    gradients[\"K1\"],gradients[\"b1\"],_=conv_backward(gradients[\"conv1\"],weights[\"K1\"],X)\n",
    "    return loss"
   ]
  },
  {
   "cell_type": "code",
   "execution_count": 8,
   "metadata": {
    "collapsed": true
   },
   "outputs": [],
   "source": [
    "# 获取精度\n",
    "def get_accuracy(X,y_true):\n",
    "    y_predict=forward(X)\n",
    "    return np.mean(np.equal(np.argmax(y_predict,axis=-1),\n",
    "                            np.argmax(y_true,axis=-1)))"
   ]
  },
  {
   "cell_type": "markdown",
   "metadata": {},
   "source": [
    "## 二、加载数据\n",
    "\n",
    "mnist.pkl.gz数据源： http://deeplearning.net/data/mnist/mnist.pkl.gz   "
   ]
  },
  {
   "cell_type": "code",
   "execution_count": 9,
   "metadata": {
    "collapsed": true
   },
   "outputs": [],
   "source": [
    "from nn.load_mnist import load_mnist_datasets\n",
    "from nn.utils import to_categorical\n",
    "train_set, val_set, test_set = load_mnist_datasets('mnist.pkl.gz')\n",
    "train_x,val_x,test_x=np.reshape(train_set[0],(-1,1,28,28)),np.reshape(val_set[0],(-1,1,28,28)),np.reshape(test_set[0],(-1,1,28,28))\n",
    "train_y,val_y,test_y=to_categorical(train_set[1]),to_categorical(val_set[1]),to_categorical(test_set[1])"
   ]
  },
  {
   "cell_type": "code",
   "execution_count": 10,
   "metadata": {
    "scrolled": true
   },
   "outputs": [
    {
     "name": "stdout",
     "output_type": "stream",
     "text": [
      "x.shape:(16, 1, 28, 28),y.shape:(16, 10)\n"
     ]
    }
   ],
   "source": [
    "# 随机选择训练样本\n",
    "train_num = train_x.shape[0]\n",
    "def next_batch(batch_size):\n",
    "    idx=np.random.choice(train_num,batch_size)\n",
    "    return train_x[idx],train_y[idx]\n",
    "\n",
    "x,y= next_batch(16)\n",
    "print(\"x.shape:{},y.shape:{}\".format(x.shape,y.shape))"
   ]
  },
  {
   "cell_type": "markdown",
   "metadata": {},
   "source": [
    "## 三、训练网络\n",
    "\n",
    "由于numpy卷积层层前向、后向过程较慢,这里只迭代2000步,mini-batch设置为2;实际只训练了4000个样本(也有不错的精度,增加迭代次数精度会继续提升;增加卷积层输出通道数，精度上限也会提升);总样本有5w个。"
   ]
  },
  {
   "cell_type": "code",
   "execution_count": 11,
   "metadata": {
    "scrolled": true
   },
   "outputs": [
    {
     "name": "stdout",
     "output_type": "stream",
     "text": [
      "\n",
      " step:0 ; loss:2.3025710785961633\n",
      " train_acc:0.5;  val_acc:0.105\n",
      "\n",
      " step:100 ; loss:2.322658576777174\n",
      " train_acc:0.0;  val_acc:0.135\n",
      "\n",
      " step:200 ; loss:2.2560641373902453\n",
      " train_acc:0.0;  val_acc:0.15\n",
      "\n",
      " step:300 ; loss:2.1825470524006914\n",
      " train_acc:1.0;  val_acc:0.105\n",
      "\n",
      " step:400 ; loss:2.208445091755495\n",
      " train_acc:0.0;  val_acc:0.12\n",
      "\n",
      " step:500 ; loss:1.413758817626698\n",
      " train_acc:0.5;  val_acc:0.475\n",
      "\n",
      " step:600 ; loss:0.8138671602711395\n",
      " train_acc:1.0;  val_acc:0.605\n",
      "\n",
      " step:700 ; loss:0.040969240382020794\n",
      " train_acc:1.0;  val_acc:0.695\n",
      "\n",
      " step:800 ; loss:0.2943919590130214\n",
      " train_acc:1.0;  val_acc:0.8\n",
      "\n",
      " step:900 ; loss:0.7937038773889639\n",
      " train_acc:0.5;  val_acc:0.775\n",
      "\n",
      " step:1000 ; loss:0.20416262923266468\n",
      " train_acc:1.0;  val_acc:0.82\n",
      "\n",
      " step:1100 ; loss:3.492562642433139\n",
      " train_acc:0.5;  val_acc:0.755\n",
      "\n",
      " step:1200 ; loss:0.44327566847604044\n",
      " train_acc:1.0;  val_acc:0.81\n",
      "\n",
      " step:1300 ; loss:0.381620659555296\n",
      " train_acc:1.0;  val_acc:0.78\n",
      "\n",
      " step:1400 ; loss:0.1379428630137357\n",
      " train_acc:1.0;  val_acc:0.715\n",
      "\n",
      " step:1500 ; loss:0.0048211652445979145\n",
      " train_acc:1.0;  val_acc:0.78\n",
      "\n",
      " step:1600 ; loss:0.6156347089073209\n",
      " train_acc:1.0;  val_acc:0.78\n",
      "\n",
      " step:1700 ; loss:2.9270997739154003\n",
      " train_acc:0.5;  val_acc:0.84\n",
      "\n",
      " step:1800 ; loss:0.7148056981166203\n",
      " train_acc:1.0;  val_acc:0.845\n",
      "\n",
      " step:1900 ; loss:3.3810034206400825\n",
      " train_acc:0.5;  val_acc:0.745\n",
      "\n",
      " final result test_acc:0.8279;  val_acc:0.839\n"
     ]
    }
   ],
   "source": [
    "\n",
    "from nn.optimizers import SGD\n",
    "# 初始化变量\n",
    "batch_size=2\n",
    "steps = 2000\n",
    "\n",
    "# 更新梯度\n",
    "sgd=SGD(weights,lr=0.01,decay=1e-6)\n",
    "\n",
    "for s in range(steps):\n",
    "    X,y=next_batch(batch_size)\n",
    "\n",
    "    # 前向过程\n",
    "    forward(X)\n",
    "    # 反向过程\n",
    "    loss=backward(X,y)\n",
    "\n",
    "\n",
    "    sgd.iterate(weights,gradients)\n",
    "\n",
    "    if s % 100 ==0:\n",
    "        print(\"\\n step:{} ; loss:{}\".format(s,loss))\n",
    "        idx=np.random.choice(len(val_x),200)\n",
    "        print(\" train_acc:{};  val_acc:{}\".format(get_accuracy(X,y),get_accuracy(val_x[idx],val_y[idx])))\n",
    "\n",
    "print(\"\\n final result test_acc:{};  val_acc:{}\".\n",
    "      format(get_accuracy(test_x,test_y),get_accuracy(val_x,val_y)))"
   ]
  },
  {
   "cell_type": "code",
   "execution_count": 22,
   "metadata": {},
   "outputs": [
    {
     "data": {
      "image/png": "[encoded data removed]",
      "text/plain": [
       "<matplotlib.figure.Figure at 0x7fd3269bd4a8>"
      ]
     },
     "metadata": {},
     "output_type": "display_data"
    },
    {
     "name": "stdout",
     "output_type": "stream",
     "text": [
      "y_true:0,y_predict:0\n"
     ]
    },
    {
     "data": {
      "image/png": "[encoded data removed]",
      "text/plain": [
       "<matplotlib.figure.Figure at 0x7fd326916390>"
      ]
     },
     "metadata": {},
     "output_type": "display_data"
    },
    {
     "name": "stdout",
     "output_type": "stream",
     "text": [
      "y_true:4,y_predict:4\n"
     ]
    },
    {
     "data": {
      "image/png": "[encoded data removed]",
      "text/plain": [
       "<matplotlib.figure.Figure at 0x7fd3268e4710>"
      ]
     },
     "metadata": {},
     "output_type": "display_data"
    },
    {
     "name": "stdout",
     "output_type": "stream",
     "text": [
      "y_true:8,y_predict:8\n"
     ]
    }
   ],
   "source": [
    "# 随机查看预测结果\n",
    "import matplotlib.pyplot as plt\n",
    "\n",
    "idx=np.random.choice(test_x.shape[0],3)\n",
    "x,y=test_x[idx],test_y[idx]\n",
    "y_predict = forward(x)\n",
    "for i in range(3):\n",
    "    plt.figure(figsize=(3,3))\n",
    "    plt.imshow(np.reshape(x[i],(28,28)))\n",
    "    plt.show()\n",
    "    print(\"y_true:{},y_predict:{}\".format(np.argmax(y[i]),np.argmax(y_predict[i])))"
   ]
  }
 ],
 "metadata": {
  "kernelspec": {
   "display_name": "Python 3",
   "language": "python",
   "name": "python3"
  },
  "language_info": {
   "codemirror_mode": {
    "name": "ipython",
    "version": 3
   },
   "file_extension": ".py",
   "mimetype": "text/x-python",
   "name": "python",
   "nbconvert_exporter": "python",
   "pygments_lexer": "ipython3",
   "version": "3.6.3"
  }
 },
 "nbformat": 4,
 "nbformat_minor": 2
}
