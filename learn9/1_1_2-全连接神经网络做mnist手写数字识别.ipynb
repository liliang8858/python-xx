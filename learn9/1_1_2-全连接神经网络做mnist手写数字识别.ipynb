{
 "cells": [
  {
   "cell_type": "markdown",
   "metadata": {},
   "source": [
    "## 一、定义前向、后向传播\n",
    "\n",
    "本文将用numpy实现dnn, 并测试mnist手写数字识别\n",
    "\n",
    "如果对神经网络的反向传播过程还有不清楚的，可以[0_1-全连接层、损失函数的反向传播](0_1-全连接层、损失函数的反向传播.md)\n",
    "\n",
    "网络结构如下,包括3个fc层：\n",
    "input(28\\*28)=> fc (256) => relu => fc(256) => relu => fc(10)"
   ]
  },
  {
   "cell_type": "code",
   "execution_count": 13,
   "metadata": {
    "collapsed": true
   },
   "outputs": [],
   "source": [
    "import numpy as np\n",
    "# 定义权重、神经元、梯度\n",
    "weights={}\n",
    "weights_scale=1e-3\n",
    "weights[\"W1\"]=weights_scale*np.random.randn(28*28,256)\n",
    "weights[\"b1\"]=np.zeros(256)\n",
    "weights[\"W2\"]=weights_scale*np.random.randn(256,256)\n",
    "weights[\"b2\"]=np.zeros(256)\n",
    "weights[\"W3\"]=weights_scale*np.random.randn(256,10)\n",
    "weights[\"b3\"]=np.zeros(10)\n",
    "\n",
    "nuerons={}\n",
    "gradients={}\n"
   ]
  },
  {
   "cell_type": "code",
   "execution_count": 14,
   "metadata": {
    "collapsed": true
   },
   "outputs": [],
   "source": [
    "from nn.layers import fc_forward\n",
    "from nn.activations import relu_forward\n",
    "\n",
    "# 定义前向过程\n",
    "def forward(X):\n",
    "    nuerons[\"z2\"]=fc_forward(X,weights[\"W1\"],weights[\"b1\"])\n",
    "    nuerons[\"z2_relu\"]=relu_forward(nuerons[\"z2\"])\n",
    "    nuerons[\"z3\"]=fc_forward(nuerons[\"z2_relu\"],weights[\"W2\"],weights[\"b2\"])\n",
    "    nuerons[\"z3_relu\"]=relu_forward(nuerons[\"z3\"])\n",
    "    nuerons[\"y\"]=fc_forward(nuerons[\"z3_relu\"],weights[\"W3\"],weights[\"b3\"])\n",
    "    return nuerons[\"y\"]"
   ]
  },
  {
   "cell_type": "code",
   "execution_count": 15,
   "metadata": {
    "collapsed": true
   },
   "outputs": [],
   "source": [
    "from nn.losses import cross_entropy_loss\n",
    "from nn.layers import fc_backward\n",
    "from nn.activations import relu_backward\n",
    "\n",
    "# 定义后向过程\n",
    "def backward(X,y_true):\n",
    "    loss,dy=cross_entropy_loss(nuerons[\"y\"],y_true)\n",
    "    gradients[\"W3\"],gradients[\"b3\"],gradients[\"z3_relu\"]=fc_backward(dy,weights[\"W3\"],nuerons[\"z3_relu\"])\n",
    "    gradients[\"z3\"]=relu_backward(gradients[\"z3_relu\"],nuerons[\"z3\"])\n",
    "    gradients[\"W2\"],gradients[\"b2\"],gradients[\"z2_relu\"]=fc_backward(gradients[\"z3\"],\n",
    "                                                                     weights[\"W2\"],nuerons[\"z2_relu\"])\n",
    "    gradients[\"z2\"]=relu_backward(gradients[\"z2_relu\"],nuerons[\"z2\"])\n",
    "    gradients[\"W1\"],gradients[\"b1\"],_=fc_backward(gradients[\"z2\"],\n",
    "                                                    weights[\"W1\"],X)\n",
    "    return loss"
   ]
  },
  {
   "cell_type": "code",
   "execution_count": 16,
   "metadata": {
    "collapsed": true
   },
   "outputs": [],
   "source": [
    "# 获取精度\n",
    "def get_accuracy(X,y_true):\n",
    "    y_predict=forward(X)\n",
    "    return np.mean(np.equal(np.argmax(y_predict,axis=-1),\n",
    "                            np.argmax(y_true,axis=-1)))"
   ]
  },
  {
   "cell_type": "markdown",
   "metadata": {},
   "source": [
    "## 二、加载数据\n",
    "\n",
    "mnist.pkl.gz数据源： http://deeplearning.net/data/mnist/mnist.pkl.gz   "
   ]
  },
  {
   "cell_type": "code",
   "execution_count": 17,
   "metadata": {
    "collapsed": true
   },
   "outputs": [],
   "source": [
    "from nn.load_mnist import load_mnist_datasets\n",
    "from nn.utils import to_categorical\n",
    "train_set, val_set, test_set = load_mnist_datasets('mnist.pkl.gz')\n",
    "train_y,val_y,test_y=to_categorical(train_set[1]),to_categorical(val_set[1]),to_categorical(test_set[1])"
   ]
  },
  {
   "cell_type": "code",
   "execution_count": 18,
   "metadata": {},
   "outputs": [
    {
     "name": "stdout",
     "output_type": "stream",
     "text": [
      "x.shape:(16, 784),y.shape:(16, 10)\n"
     ]
    }
   ],
   "source": [
    "# 随机选择训练样本\n",
    "train_num = train_set[0].shape[0]\n",
    "def next_batch(batch_size):\n",
    "    idx=np.random.choice(train_num,batch_size)\n",
    "    return train_set[0][idx],train_y[idx]\n",
    "\n",
    "x,y= next_batch(16)\n",
    "print(\"x.shape:{},y.shape:{}\".format(x.shape,y.shape))"
   ]
  },
  {
   "cell_type": "code",
   "execution_count": 19,
   "metadata": {
    "scrolled": true
   },
   "outputs": [
    {
     "data": {
      "image/png": "[encoded data removed]",
      "text/plain": [
       "<matplotlib.figure.Figure at 0x1a62479f588>"
      ]
     },
     "metadata": {},
     "output_type": "display_data"
    }
   ],
   "source": [
    "# 可视化\n",
    "import matplotlib.pyplot as plt\n",
    "digit=train_set[0][3]\n",
    "plt.imshow(np.reshape(digit,(28,28)))\n",
    "plt.show()"
   ]
  },
  {
   "cell_type": "markdown",
   "metadata": {},
   "source": [
    "## 三、训练"
   ]
  },
  {
   "cell_type": "code",
   "execution_count": 20,
   "metadata": {
    "scrolled": true
   },
   "outputs": [
    {
     "name": "stdout",
     "output_type": "stream",
     "text": [
      "\n",
      " epoch:0 step:0 ; loss:2.302584820875885\n",
      " train_acc:0.1875;  val_acc:0.103\n",
      "\n",
      " epoch:0 step:200 ; loss:2.3089974735813046\n",
      " train_acc:0.0625;  val_acc:0.1064\n",
      "\n",
      " epoch:0 step:400 ; loss:2.3190137162037106\n",
      " train_acc:0.0625;  val_acc:0.1064\n",
      "\n",
      " epoch:0 step:600 ; loss:2.29290016314387\n",
      " train_acc:0.1875;  val_acc:0.1064\n",
      "\n",
      " epoch:0 step:800 ; loss:2.2990879829286004\n",
      " train_acc:0.125;  val_acc:0.1064\n",
      "\n",
      " epoch:0 step:1000 ; loss:2.2969247354797817\n",
      " train_acc:0.125;  val_acc:0.1064\n",
      "\n",
      " epoch:0 step:1200 ; loss:2.307249383676819\n",
      " train_acc:0.09375;  val_acc:0.1064\n",
      "\n",
      " epoch:0 step:1400 ; loss:2.3215380862102757\n",
      " train_acc:0.03125;  val_acc:0.1064\n",
      "\n",
      " epoch:1 step:0 ; loss:2.2884130059797547\n",
      " train_acc:0.25;  val_acc:0.1064\n",
      "\n",
      " epoch:1 step:200 ; loss:1.76023258152068\n",
      " train_acc:0.34375;  val_acc:0.2517\n",
      "\n",
      " epoch:1 step:400 ; loss:1.4113708080481038\n",
      " train_acc:0.40625;  val_acc:0.3138\n",
      "\n",
      " epoch:1 step:600 ; loss:1.4484238805860425\n",
      " train_acc:0.53125;  val_acc:0.5509\n",
      "\n",
      " epoch:1 step:800 ; loss:0.4831932927037818\n",
      " train_acc:0.9375;  val_acc:0.7444\n",
      "\n",
      " epoch:1 step:1000 ; loss:0.521746944367524\n",
      " train_acc:0.84375;  val_acc:0.8234\n",
      "\n",
      " epoch:1 step:1200 ; loss:0.5975823718636631\n",
      " train_acc:0.875;  val_acc:0.8751\n",
      "\n",
      " epoch:1 step:1400 ; loss:0.39426304417143254\n",
      " train_acc:0.9375;  val_acc:0.8939\n",
      "\n",
      " epoch:2 step:0 ; loss:0.3392397455325375\n",
      " train_acc:0.9375;  val_acc:0.8874\n",
      "\n",
      " epoch:2 step:200 ; loss:0.2349061434167009\n",
      " train_acc:0.96875;  val_acc:0.9244\n",
      "\n",
      " epoch:2 step:400 ; loss:0.1642980488678663\n",
      " train_acc:0.96875;  val_acc:0.9223\n",
      "\n",
      " epoch:2 step:600 ; loss:0.18962678031295344\n",
      " train_acc:1.0;  val_acc:0.9349\n",
      "\n",
      " epoch:2 step:800 ; loss:0.1374088809322303\n",
      " train_acc:1.0;  val_acc:0.9365\n",
      "\n",
      " epoch:2 step:1000 ; loss:0.45885105735878895\n",
      " train_acc:0.96875;  val_acc:0.939\n",
      "\n",
      " epoch:2 step:1200 ; loss:0.049076886226820146\n",
      " train_acc:1.0;  val_acc:0.9471\n",
      "\n",
      " epoch:2 step:1400 ; loss:0.3464252344080918\n",
      " train_acc:0.9375;  val_acc:0.9413\n",
      "\n",
      " epoch:3 step:0 ; loss:0.2719433362166901\n",
      " train_acc:0.96875;  val_acc:0.9517\n",
      "\n",
      " epoch:3 step:200 ; loss:0.06844332074679768\n",
      " train_acc:1.0;  val_acc:0.9586\n",
      "\n",
      " epoch:3 step:400 ; loss:0.16346902137921188\n",
      " train_acc:1.0;  val_acc:0.9529\n",
      "\n",
      " epoch:3 step:600 ; loss:0.15661875582989374\n",
      " train_acc:1.0;  val_acc:0.9555\n",
      "\n",
      " epoch:3 step:800 ; loss:0.10004190054365474\n",
      " train_acc:1.0;  val_acc:0.9579\n",
      "\n",
      " epoch:3 step:1000 ; loss:0.20624793312023684\n",
      " train_acc:0.96875;  val_acc:0.9581\n",
      "\n",
      " epoch:3 step:1200 ; loss:0.016292493383161803\n",
      " train_acc:1.0;  val_acc:0.9602\n",
      "\n",
      " epoch:3 step:1400 ; loss:0.08761421046492293\n",
      " train_acc:1.0;  val_acc:0.9602\n",
      "\n",
      " epoch:4 step:0 ; loss:0.23058956036352923\n",
      " train_acc:0.9375;  val_acc:0.9547\n",
      "\n",
      " epoch:4 step:200 ; loss:0.14973880899309255\n",
      " train_acc:0.96875;  val_acc:0.9674\n",
      "\n",
      " epoch:4 step:400 ; loss:0.4563995699690676\n",
      " train_acc:0.9375;  val_acc:0.9667\n",
      "\n",
      " epoch:4 step:600 ; loss:0.03818259411193518\n",
      " train_acc:1.0;  val_acc:0.9641\n",
      "\n",
      " epoch:4 step:800 ; loss:0.18057951765239755\n",
      " train_acc:1.0;  val_acc:0.968\n",
      "\n",
      " epoch:4 step:1000 ; loss:0.05313018618481231\n",
      " train_acc:1.0;  val_acc:0.9656\n",
      "\n",
      " epoch:4 step:1200 ; loss:0.07373341371929959\n",
      " train_acc:1.0;  val_acc:0.9692\n",
      "\n",
      " epoch:4 step:1400 ; loss:0.0499225679993673\n",
      " train_acc:1.0;  val_acc:0.9696\n",
      "\n",
      " final result test_acc:0.9674;  val_acc:0.9676\n"
     ]
    }
   ],
   "source": [
    "# 初始化变量\n",
    "batch_size=32\n",
    "epoch = 3\n",
    "steps = train_num // batch_size\n",
    "lr = 0.1\n",
    "\n",
    "for e in range(epoch):\n",
    "    for s in range(steps):\n",
    "        X,y=next_batch(batch_size)\n",
    "        \n",
    "        # 前向过程\n",
    "        forward(X)\n",
    "        loss=backward(X,y)\n",
    "        \n",
    "        # 更新梯度\n",
    "        for k in [\"W1\",\"b1\",\"W2\",\"b2\",\"W3\",\"b3\"]:\n",
    "            weights[k]-=lr*gradients[k]\n",
    "        \n",
    "        if s % 500 ==0:\n",
    "            print(\"\\n epoch:{} step:{} ; loss:{}\".format(e,s,loss))\n",
    "            print(\" train_acc:{};  val_acc:{}\".format(get_accuracy(X,y),get_accuracy(val_set[0],val_y)))\n",
    "\n",
    "            \n",
    "print(\"\\n final result test_acc:{};  val_acc:{}\".\n",
    "      format(get_accuracy(test_set[0],test_y),get_accuracy(val_set[0],val_y)))"
   ]
  },
  {
   "cell_type": "code",
   "execution_count": 25,
   "metadata": {},
   "outputs": [
    {
     "data": {
      "image/png": "[encoded data removed]",
      "text/plain": [
       "<matplotlib.figure.Figure at 0x1a616bde438>"
      ]
     },
     "metadata": {},
     "output_type": "display_data"
    },
    {
     "name": "stdout",
     "output_type": "stream",
     "text": [
      "y_true:1,y_predict:1\n"
     ]
    }
   ],
   "source": [
    "# 查看预测结果\n",
    "x,y=test_set[0][5],test_y[5]\n",
    "plt.imshow(np.reshape(x,(28,28)))\n",
    "plt.show()\n",
    "\n",
    "y_predict = np.argmax(forward([x])[0])\n",
    "\n",
    "print(\"y_true:{},y_predict:{}\".format(np.argmax(y),y_predict))\n",
    "\n"
   ]
  }
 ],
 "metadata": {
  "kernelspec": {
   "display_name": "Python 3",
   "language": "python",
   "name": "python3"
  },
  "language_info": {
   "codemirror_mode": {
    "name": "ipython",
    "version": 3
   },
   "file_extension": ".py",
   "mimetype": "text/x-python",
   "name": "python",
   "nbconvert_exporter": "python",
   "pygments_lexer": "ipython3",
   "version": "3.6.4"
  }
 },
 "nbformat": 4,
 "nbformat_minor": 2
}
