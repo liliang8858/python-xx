{
 "cells": [
  {
   "cell_type": "code",
   "execution_count": 1,
   "metadata": {},
   "outputs": [],
   "source": [
    "import wechatsogou"
   ]
  },
  {
   "cell_type": "code",
   "execution_count": 2,
   "metadata": {},
   "outputs": [],
   "source": [
    "ws_api = wechatsogou.WechatSogouAPI()"
   ]
  },
  {
   "cell_type": "code",
   "execution_count": 5,
   "metadata": {},
   "outputs": [
    {
     "data": {
      "text/plain": [
       "[{'open_id': 'oIWsFtz5zYyMlUwFKy4WHxyV1ka4',\n",
       "  'profile_url': 'http://mp.weixin.qq.com/profile?src=3&timestamp=1529051980&ver=1&signature=xyWSV7l9ghr0Qac-hosIECneOvwBmTYmBPgbjCCq203UlCTWSk1n3F5JjebVT7D*NBInjzw56GLMu3BsLByiIA==',\n",
       "  'headimage': 'http://img01.sogoucdn.com/app/a/100520090/oIWsFtz5zYyMlUwFKy4WHxyV1ka4',\n",
       "  'wechat_name': 'SpringBoot',\n",
       "  'wechat_id': 'angellovelxq',\n",
       "  'qrcode': 'http://mp.weixin.qq.com/rr?src=3&timestamp=1529051980&ver=1&signature=d857CAnuGvNGqpWimh*IDmMPPsRI1XyF1-jDfcyM2ZPr2wtnAEkRwiZlZQFvR5aiRpntvVIRrhKDVWf10PurDq4wEAkMNq4gx2e1-rYyt*E=',\n",
       "  'introduction': 'SpringBoot实战,提供SpringBoot实战教程,在iteye中提供复杂例子的源码下载.',\n",
       "  'authentication': '\\n',\n",
       "  'post_perm': 8,\n",
       "  'view_perm': 209},\n",
       " {'open_id': 'oIWsFtzm5kz-pjnCYs4_SsWfCMxs',\n",
       "  'profile_url': 'http://mp.weixin.qq.com/profile?src=3&timestamp=1529051980&ver=1&signature=FTE1Z9YFWkiQpKArqSCGyXLaZZ3lOF2Q36BzKAYiPRSrdmdSxOOp6zGCrYdmHf9Ol2GqLCvBecvxanKzystEfw==',\n",
       "  'headimage': 'http://img01.sogoucdn.com/app/a/100520090/oIWsFtzm5kz-pjnCYs4_SsWfCMxs',\n",
       "  'wechat_name': 'SpringBoot观察员',\n",
       "  'wechat_id': 'springbootchina',\n",
       "  'qrcode': 'http://mp.weixin.qq.com/rr?src=3&timestamp=1529051980&ver=1&signature=xFd*JqlBLvfSkuTi*e58WPyUC10GVll2IJhoBHCMPemFpO*GtlsnF1EygBsnN7ueM0jJHK2VL7PHPGX2p8*ek85DopOcqbchpBoGj8Rg7DI=',\n",
       "  'introduction': '有Pivotal和Netflix罩着,SpringBoot一定会NB的,还不赶快学习!',\n",
       "  'authentication': '',\n",
       "  'post_perm': -1,\n",
       "  'view_perm': -1},\n",
       " {'open_id': 'oIWsFtw2ZiqKy-enshwisp2efbUQ',\n",
       "  'profile_url': 'http://mp.weixin.qq.com/profile?src=3&timestamp=1529051980&ver=1&signature=yBS5hvXWFSa2blPQLfTUcZTY*-oSU5xwKmzSCQAvLudKlT2lIc*DOIAXY4FrS63ICd7rDUZGw71*DTI9DRadtQ==',\n",
       "  'headimage': 'http://img01.sogoucdn.com/app/a/100520090/oIWsFtw2ZiqKy-enshwisp2efbUQ',\n",
       "  'wechat_name': 'springboot开发者',\n",
       "  'wechat_id': 'mydovip',\n",
       "  'qrcode': 'http://mp.weixin.qq.com/rr?src=3&timestamp=1529051980&ver=1&signature=avI5n3*WsLliUv1caQymbFnIl9kfCaeLdOglck*zLiX3mt20-FlWGLceeEJ0SsLWIvpaLcOS32tjvfErKbNrq3Qnx2uYpThvAe3QRPEyDcI=',\n",
       "  'introduction': 'springboot开发者学习、交流',\n",
       "  'authentication': '',\n",
       "  'post_perm': -1,\n",
       "  'view_perm': -1},\n",
       " {'open_id': 'oIWsFt2Qq9c2g5DNz_Mw6Svggblw',\n",
       "  'profile_url': 'http://mp.weixin.qq.com/profile?src=3&timestamp=1529051980&ver=1&signature=uzR0orKUD7D4iR6Z0thG6samw5F5rBsOaegL81zIt8T9fHaGwYT*0V3Fb6jIJA7QEBmK22aHvqGiAFDcXRDcZw==',\n",
       "  'headimage': 'http://img01.sogoucdn.com/app/a/100520090/oIWsFt2Qq9c2g5DNz_Mw6Svggblw',\n",
       "  'wechat_name': 'SpringBoot技术分享',\n",
       "  'wechat_id': 'gh_42b1338c4156',\n",
       "  'qrcode': 'http://mp.weixin.qq.com/rr?src=3&timestamp=1529051980&ver=1&signature=CgZgmLj-RQ6lIN0L0hyAnxt02OBlVgikTJZ9faliIlYb93wevfL9r3HLaNKE5PCX3asV4kmYGc-G7*pVRamFfwcbk2BK7h9GWpO5tkyAh5c=',\n",
       "  'introduction': 'SpringBoot相关的技术分享',\n",
       "  'authentication': '\\n',\n",
       "  'post_perm': -1,\n",
       "  'view_perm': -1},\n",
       " {'open_id': 'oIWsFt1iZoP_K_G4iGJFNW2FrWhQ',\n",
       "  'profile_url': 'http://mp.weixin.qq.com/profile?src=3&timestamp=1529051980&ver=1&signature=HcYRI38PakXrIvVQpkYk5Z0GKjz2Xba2e6hcujiq69e0HMhvdqLb43Mu*yP1gCldHwsx-SUNc-2K9zH4GUz0xw==',\n",
       "  'headimage': 'http://img01.sogoucdn.com/app/a/100520090/oIWsFt1iZoP_K_G4iGJFNW2FrWhQ',\n",
       "  'wechat_name': 'SpringBoot小院',\n",
       "  'wechat_id': 'gh_ae1672bbe981',\n",
       "  'qrcode': 'http://mp.weixin.qq.com/rr?src=3&timestamp=1529051980&ver=1&signature=RP6A25huxspG6YbTZJU5cenZAzCgISPr68Vf*tYwZSWrsH814FUUYLs-ZIxNj6QDHigLcBpX*xyfBBk9*16-8a3qYN392M4H5CDVAIr4-N4=',\n",
       "  'introduction': '本小院专门为懂技术的人推送Springboot和java等相关文章,让每个人看到java的美,看到程序的美.',\n",
       "  'authentication': '\\n',\n",
       "  'post_perm': -1,\n",
       "  'view_perm': -1},\n",
       " {'open_id': 'oIWsFt-N6wOeWo-ykdP07AiedW30',\n",
       "  'profile_url': 'http://mp.weixin.qq.com/profile?src=3&timestamp=1529051980&ver=1&signature=-mUJQdAnHBYV3XhbllYXQzkugwXW1tiSm3ngDotUEn3ODldYK6r7pBMG5kXJmwehNP3FIgxKlP5BLes6gvGlkA==',\n",
       "  'headimage': 'http://img01.sogoucdn.com/app/a/100520090/oIWsFt-N6wOeWo-ykdP07AiedW30',\n",
       "  'wechat_name': 'SpringBoot开发',\n",
       "  'wechat_id': 'shinespringboot',\n",
       "  'qrcode': 'http://mp.weixin.qq.com/rr?src=3&timestamp=1529051980&ver=1&signature=k6*1wY5ccAiwFTmOOeMCQ*xDL7ypdUG-R26-5Z8JQ7Cig6KIMjXpVjJsIKVJcZoZ1LraMv4c5883M2NBOvHoqdOYcO3Ib2HZFk8jLV3G*to=',\n",
       "  'introduction': '测试开发公众号',\n",
       "  'authentication': '',\n",
       "  'post_perm': -1,\n",
       "  'view_perm': -1},\n",
       " {'open_id': 'oIWsFt4Kr5ZKC2bO2igf4oN6S8hw',\n",
       "  'profile_url': 'http://mp.weixin.qq.com/profile?src=3&timestamp=1529051980&ver=1&signature=sD8HeIy8B1ndOayuCffFi1Gdg-10EsnMyzTWIgD2ROlqB2lakBuAaZYStF55agOGOrjn79GmGWVqF9LMuVGFXg==',\n",
       "  'headimage': 'http://img01.sogoucdn.com/app/a/100520090/oIWsFt4Kr5ZKC2bO2igf4oN6S8hw',\n",
       "  'wechat_name': 'SpringBoot及微服务',\n",
       "  'wechat_id': 'gh_80fcd4c2dadc',\n",
       "  'qrcode': 'http://mp.weixin.qq.com/rr?src=3&timestamp=1529051980&ver=1&signature=Bb8dB-E*O02Oqk1cnflqsv2qXBCHL-nTrxNp*ZHiYTwrUFRFvx3OPhHPfuGGTOySiBHHVMNNtfz1iG933zt8HSHJyV84nSDEyre9wdeyGlc=',\n",
       "  'introduction': 'SpringBoot/SpringCloud / 微服务 等技术分享,提供基础知识、源码下载、在线视频课程链接等,助力Java开发者提升编程技能,在工作中如鱼得水.',\n",
       "  'authentication': '\\n',\n",
       "  'post_perm': 4,\n",
       "  'view_perm': 12},\n",
       " {'open_id': 'oIWsFtyMtFnbPJvnRP1RjjPPxFXA',\n",
       "  'profile_url': 'http://mp.weixin.qq.com/profile?src=3&timestamp=1529051980&ver=1&signature=crcM0H-xEhB*8zU37tDKB8iDkSrG3RKTE0A3CgVKVLtNldUcKzpySDJmZRZivHsFFwKaFT7XzerBlnClSbgFgw==',\n",
       "  'headimage': 'http://img01.sogoucdn.com/app/a/100520090/oIWsFtyMtFnbPJvnRP1RjjPPxFXA',\n",
       "  'wechat_name': 'springboot技术',\n",
       "  'wechat_id': 'gh_9d6725a9a7de',\n",
       "  'qrcode': 'http://mp.weixin.qq.com/rr?src=3&timestamp=1529051980&ver=1&signature=P6KNPAqF11b5sGFT-yIozm9At4P7pp050KlqRfiT7qbhJC6xhBxFvwEllTSGlO4Dafd71tfUpCE0jEiaT4qYq6qgO9bKzAPo2ZRj8FPIYyk=',\n",
       "  'introduction': 'springboot技术',\n",
       "  'authentication': '',\n",
       "  'post_perm': -1,\n",
       "  'view_perm': -1},\n",
       " {'open_id': 'oIWsFt2QwRv_bJwBCyQ0x6HoeBGA',\n",
       "  'profile_url': 'http://mp.weixin.qq.com/profile?src=3&timestamp=1529051980&ver=1&signature=Ed-FfSoMIaU510Zq5gGgZ5siLtiM1VWIkC4MlG-Dy2Vg-2TCYIWdjlBbIqPHx0T962sZ*MWodRQePzGFiWxPWQ==',\n",
       "  'headimage': 'http://img01.sogoucdn.com/app/a/100520090/oIWsFt2QwRv_bJwBCyQ0x6HoeBGA',\n",
       "  'wechat_name': 'SpringBoot开发学习',\n",
       "  'wechat_id': 'gh_f9400f61a4e6',\n",
       "  'qrcode': 'http://mp.weixin.qq.com/rr?src=3&timestamp=1529051980&ver=1&signature=fsUHs3G3mUfmzSATSVVVr2i-tZbqPVXlan-igCSj137J1GrNZ3EblHxwA7G6vcio6OobWVuaiBFbKK9Vd906luoGwql5EAxdZgfihjKciPc=',\n",
       "  'introduction': '共同学习Springboot,分享优秀的学习教程',\n",
       "  'authentication': '',\n",
       "  'post_perm': -1,\n",
       "  'view_perm': -1},\n",
       " {'open_id': 'oIWsFtyrjsX9QZ8Za0YRqSS5cZaU',\n",
       "  'profile_url': 'http://mp.weixin.qq.com/profile?src=3&timestamp=1529051980&ver=1&signature=UwERWGQGVwzhtkyws5owwPXG4d5CJ7wnFynHtfHmx1VgndMn4BgSskE5lob0Sto1*bhOVkZ2xdUrkt6R8k9c4w==',\n",
       "  'headimage': 'http://img01.sogoucdn.com/app/a/100520090/oIWsFtyrjsX9QZ8Za0YRqSS5cZaU',\n",
       "  'wechat_name': 'springboot学习号',\n",
       "  'wechat_id': 'gh_4969068ad63b',\n",
       "  'qrcode': 'http://mp.weixin.qq.com/rr?src=3&timestamp=1529051980&ver=1&signature=csP*M15ttvE-2PS*0yOfiZ8qnWrK-y-djC88QShjdNj*DU0aqe0V8h7AQk-*eQP4fRItmqFQxAoYmPCGceipXbp-8kmjB-RK-2lTkCsXcnQ=',\n",
       "  'introduction': '学习springboot',\n",
       "  'authentication': '',\n",
       "  'post_perm': -1,\n",
       "  'view_perm': -1}]"
      ]
     },
     "execution_count": 5,
     "metadata": {},
     "output_type": "execute_result"
    }
   ],
   "source": [
    "ws_api.search_gzh('spring boot')"
   ]
  },
  {
   "cell_type": "code",
   "execution_count": null,
   "metadata": {},
   "outputs": [],
   "source": []
  },
  {
   "cell_type": "code",
   "execution_count": null,
   "metadata": {},
   "outputs": [],
   "source": []
  },
  {
   "cell_type": "code",
   "execution_count": null,
   "metadata": {},
   "outputs": [],
   "source": []
  }
 ],
 "metadata": {
  "kernelspec": {
   "display_name": "Python 3",
   "language": "python",
   "name": "python3"
  },
  "language_info": {
   "codemirror_mode": {
    "name": "ipython",
    "version": 3
   },
   "file_extension": ".py",
   "mimetype": "text/x-python",
   "name": "python",
   "nbconvert_exporter": "python",
   "pygments_lexer": "ipython3",
   "version": "3.6.5"
  }
 },
 "nbformat": 4,
 "nbformat_minor": 2
}
