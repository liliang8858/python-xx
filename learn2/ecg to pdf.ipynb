{
 "cells": [
  {
   "cell_type": "code",
   "execution_count": 1,
   "metadata": {},
   "outputs": [],
   "source": [
    "import matplotlib\n",
    "\n",
    "X_INCH = 7\n",
    "Y_INCH = 11\n",
    "X_MM = int(X_INCH*25.4)\n",
    "Y_MM = int(Y_INCH*25.4)\n",
    "\n",
    "while X_MM % 5 != 1:\n",
    "    X_MM -= 1\n",
    "\n",
    "while Y_MM % 5 != 1:\n",
    "    Y_MM -= 1\n",
    "\n",
    "M_X_INCH = float(X_MM) / 25.4\n",
    "M_Y_INCH = float(Y_MM) / 25.4\n",
    "THIN_WIDTH = 0.2\n",
    "FAT_WIDTH = 0.6\n",
    "\n",
    "\n",
    "#matplotlib.use('pdf')\n",
    "from matplotlib.backends.backend_pdf import PdfPages\n",
    "\n",
    "import matplotlib.pyplot as plt\n",
    "\n",
    "with PdfPages('ecg.pdf') as pdf:\n",
    "\n",
    "    f = plt.figure(figsize=(M_X_INCH,M_Y_INCH), dpi=600)  # 英寸\n",
    "    plt.rc('lines', linewidth=THIN_WIDTH, color='hotpink')\n",
    "    # 坐标系\n",
    "    # axes = f.add_subplot(1,1,1)\n",
    "    axes = f.add_axes( (0, 0, 1, 1), frame_on=False )\n",
    "    axes.set_xlim(-0.5, X_MM-0.5)     # 毫米\n",
    "    axes.set_ylim(-0.5, Y_MM-0.5)    \n",
    "    def get_line_width(i):\n",
    "        if i % 5 == 0 :\n",
    "            return FAT_WIDTH \n",
    "        else:\n",
    "            return THIN_WIDTH\n",
    "    for i in range(0, X_MM):\n",
    "        axes.axvline(x=i,linewidth=get_line_width(i))\n",
    "    for i in range(0, Y_MM):\n",
    "        axes.axhline(y=i,linewidth=get_line_width(i))\n",
    "\n",
    "    pdf.savefig()\n",
    "    plt.close()"
   ]
  },
  {
   "cell_type": "code",
   "execution_count": null,
   "metadata": {},
   "outputs": [],
   "source": []
  }
 ],
 "metadata": {
  "kernelspec": {
   "display_name": "Python 3",
   "language": "python",
   "name": "python3"
  },
  "language_info": {
   "codemirror_mode": {
    "name": "ipython",
    "version": 3
   },
   "file_extension": ".py",
   "mimetype": "text/x-python",
   "name": "python",
   "nbconvert_exporter": "python",
   "pygments_lexer": "ipython3",
   "version": "3.6.5"
  }
 },
 "nbformat": 4,
 "nbformat_minor": 2
}
