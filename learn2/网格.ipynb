{
 "cells": [
  {
   "cell_type": "code",
   "execution_count": 30,
   "metadata": {},
   "outputs": [
    {
     "data": {
      "text/plain": [
       "[Text(0,0,'0'),\n",
       " Text(0,0,'1'),\n",
       " Text(0,0,'2'),\n",
       " Text(0,0,'3'),\n",
       " Text(0,0,'4'),\n",
       " Text(0,0,'5'),\n",
       " Text(0,0,'6'),\n",
       " Text(0,0,'7'),\n",
       " Text(0,0,'8')]"
      ]
     },
     "execution_count": 30,
     "metadata": {},
     "output_type": "execute_result"
    },
    {
     "data": {
      "image/png": "[encoded data removed]",
      "text/plain": [
       "<Figure size 432x288 with 1 Axes>"
      ]
     },
     "metadata": {},
     "output_type": "display_data"
    }
   ],
   "source": [
    "import matplotlib.pyplot as plt\n",
    "\n",
    "ax = plt.axes([0.025, 0.025, 0.95, 0.95]) #[xmin,ymin,xmax,ymax]\n",
    "\n",
    "ax.set_xlim(0,30)\n",
    "ax.set_ylim(0,30)\n",
    "ax.xaxis.set_major_locator(plt.MultipleLocator(5.0))#设置x主坐标间隔 1\n",
    "ax.xaxis.set_minor_locator(plt.MultipleLocator(0.7))#设置x从坐标间隔 0.5\n",
    "#ax.xaxis.set_minor_locator(plt.MultipleLocator(0.1))#设置x从坐标间隔 0.1\n",
    "ax.yaxis.set_major_locator(plt.MultipleLocator(5.0))#设置y主坐标间隔 1\n",
    "ax.yaxis.set_minor_locator(plt.MultipleLocator(0.7))#设置y从坐标间隔 0.1\n",
    "#ax.yaxis.set_minor_locator(plt.MultipleLocator(0.1))#设置y从坐标间隔 0.1\n",
    "ax.grid(which='major', axis='x', linewidth=0.75, linestyle='-', color='0.75')#由每个x主坐标出发对x主坐标画垂直于x轴的线段\n",
    "ax.grid(which='minor', axis='x', linewidth=0.25, linestyle='-', color='0.75')#由每个x主坐标出发对x主坐标画垂直于x轴的线段\n",
    "ax.grid(which='major', axis='y', linewidth=0.75, linestyle='-', color='0.75')\n",
    "ax.grid(which='minor', axis='y', linewidth=0.25, linestyle='-', color='0.75')\n",
    "ax.set_xticklabels([])#标记x轴主坐标的值,在这里设为空值，则表示坐标无数值标定；其他情况如\n",
    "ax.set_xticklabels([i for i in range(10)])\n",
    "\n",
    "#ax.set_yticklabels([])plt.show()\n",
    "\n",
    "###########"
   ]
  },
  {
   "cell_type": "code",
   "execution_count": null,
   "metadata": {},
   "outputs": [],
   "source": []
  }
 ],
 "metadata": {
  "kernelspec": {
   "display_name": "Python 3",
   "language": "python",
   "name": "python3"
  },
  "language_info": {
   "codemirror_mode": {
    "name": "ipython",
    "version": 3
   },
   "file_extension": ".py",
   "mimetype": "text/x-python",
   "name": "python",
   "nbconvert_exporter": "python",
   "pygments_lexer": "ipython3",
   "version": "3.6.5"
  }
 },
 "nbformat": 4,
 "nbformat_minor": 2
}
