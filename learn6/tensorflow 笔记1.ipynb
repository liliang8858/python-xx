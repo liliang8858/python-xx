{
 "cells": [
  {
   "cell_type": "code",
   "execution_count": 37,
   "metadata": {},
   "outputs": [],
   "source": [
    "import tensorflow as tf "
   ]
  },
  {
   "cell_type": "markdown",
   "metadata": {},
   "source": [
    "矩阵乘法\n",
    "矩阵乘法是最常见的方法，也是在深度神经网络中用的很多的加权求和中的加权操作。\n",
    "\n",
    "两个矩阵做乘法，必须满足第一个矩阵的第二维和第二个矩阵的第一维要相等，结果的维度等于第一个矩阵的第一维和第二个矩阵的第二维。 比如mn的矩阵和np的矩阵，结果为m*p维矩阵。计算过程是第一个矩阵的每一行和第二个矩阵的每一列，即两个向量相乘。\n",
    "\n",
    "输出结果是5*10的矩阵"
   ]
  },
  {
   "cell_type": "code",
   "execution_count": 31,
   "metadata": {},
   "outputs": [],
   "source": [
    "# 定义输入数据为维度5*3的矩阵\n",
    "input_data = tf.zeros(shape=[5,3],name=\"input_data\")"
   ]
  },
  {
   "cell_type": "code",
   "execution_count": 32,
   "metadata": {},
   "outputs": [],
   "source": [
    "# 定义权重为维度3*10的矩阵\n",
    "weight=tf.Variable(tf.ones(shape=[3,10],name=\"weight\"))"
   ]
  },
  {
   "cell_type": "code",
   "execution_count": 35,
   "metadata": {},
   "outputs": [],
   "source": [
    "result = tf.matmul(input_data,weight,name=\"result\")"
   ]
  },
  {
   "cell_type": "code",
   "execution_count": 36,
   "metadata": {},
   "outputs": [
    {
     "name": "stdout",
     "output_type": "stream",
     "text": [
      "result:\n",
      " [[0. 0. 0. 0. 0. 0. 0. 0. 0. 0.]\n",
      " [0. 0. 0. 0. 0. 0. 0. 0. 0. 0.]\n",
      " [0. 0. 0. 0. 0. 0. 0. 0. 0. 0.]\n",
      " [0. 0. 0. 0. 0. 0. 0. 0. 0. 0.]\n",
      " [0. 0. 0. 0. 0. 0. 0. 0. 0. 0.]]\n"
     ]
    }
   ],
   "source": [
    "with tf.Session() as session:\n",
    "    session.run(tf.global_variables_initializer())\n",
    "    print(\"result:\\n\",session.run(result))"
   ]
  },
  {
   "cell_type": "markdown",
   "metadata": {},
   "source": [
    "点乘\n",
    "点乘计算要求两个矩阵拥有相同的维度，相同下标的元素一一对应相乘，在神经风格中，风格损失格拉姆矩阵的计算时就使用了点乘。\n",
    "\n",
    "比如mn维矩阵只能和mn维矩阵相乘，获得的结果还是m*n维矩阵。\n",
    "\n",
    "输出结果是一个5*3的矩阵\n"
   ]
  },
  {
   "cell_type": "code",
   "execution_count": 39,
   "metadata": {},
   "outputs": [
    {
     "name": "stdout",
     "output_type": "stream",
     "text": [
      "result : \n",
      " [[0. 0. 0.]\n",
      " [0. 0. 0.]\n",
      " [0. 0. 0.]\n",
      " [0. 0. 0.]\n",
      " [0. 0. 0.]]\n"
     ]
    }
   ],
   "source": [
    "# 定义输入数据为维度5*3的矩阵\n",
    "input_data = tf.zeros(shape=[5,3],name=\"input_data\")\n",
    "# 定义权重为维度5*3的矩阵\n",
    "weight = tf.Variable(tf.ones(shape=[5,3]),name=\"weight\")\n",
    "# 计算矩阵乘法结果\n",
    "result = tf.multiply(input_data,weight,name=\"result\")\n",
    "with tf.Session() as session:\n",
    "    session.run(tf.global_variables_initializer())\n",
    "    print(\"result : \\n\" ,session.run(result))"
   ]
  },
  {
   "cell_type": "code",
   "execution_count": null,
   "metadata": {},
   "outputs": [],
   "source": []
  },
  {
   "cell_type": "code",
   "execution_count": null,
   "metadata": {},
   "outputs": [],
   "source": []
  },
  {
   "cell_type": "code",
   "execution_count": 15,
   "metadata": {},
   "outputs": [],
   "source": [
    "a = tf.zeros(shape=[1,2])"
   ]
  },
  {
   "cell_type": "code",
   "execution_count": 16,
   "metadata": {},
   "outputs": [
    {
     "name": "stdout",
     "output_type": "stream",
     "text": [
      "Tensor(\"zeros_7:0\", shape=(1, 2), dtype=float32)\n"
     ]
    }
   ],
   "source": [
    "print(a)"
   ]
  },
  {
   "cell_type": "code",
   "execution_count": 17,
   "metadata": {},
   "outputs": [],
   "source": [
    "sess = tf.InteractiveSession()"
   ]
  },
  {
   "cell_type": "code",
   "execution_count": 18,
   "metadata": {},
   "outputs": [
    {
     "name": "stdout",
     "output_type": "stream",
     "text": [
      "[[0. 0.]]\n"
     ]
    }
   ],
   "source": [
    "print(sess.run(a))"
   ]
  },
  {
   "cell_type": "code",
   "execution_count": 19,
   "metadata": {},
   "outputs": [],
   "source": [
    "W = tf.Variable(tf.zeros(shape=[1,2]))"
   ]
  },
  {
   "cell_type": "code",
   "execution_count": 20,
   "metadata": {},
   "outputs": [
    {
     "name": "stdout",
     "output_type": "stream",
     "text": [
      "[[0. 0.]]\n"
     ]
    }
   ],
   "source": [
    "tensor = tf.zeros(shape=[1,2])\n",
    "variable = tf.Variable(tensor)\n",
    "sess = tf.InteractiveSession()\n",
    "# print(sess.run(variable))  # 会报错\n",
    "sess.run(tf.initialize_all_variables()) # 对variable进行初始化\n",
    "print(sess.run(variable))"
   ]
  },
  {
   "cell_type": "code",
   "execution_count": 24,
   "metadata": {},
   "outputs": [],
   "source": [
    "x = tf.placeholder(tf.float32,[1, 5],name='input')\n",
    "#又叫占位符，同样是一个抽象的概念。用于表示输入输出数据的格式。"
   ]
  },
  {
   "cell_type": "code",
   "execution_count": 25,
   "metadata": {},
   "outputs": [],
   "source": [
    "y = tf.placeholder(tf.float32,[None, 5],name='input')"
   ]
  },
  {
   "cell_type": "code",
   "execution_count": null,
   "metadata": {},
   "outputs": [],
   "source": []
  }
 ],
 "metadata": {
  "kernelspec": {
   "display_name": "Python 3",
   "language": "python",
   "name": "python3"
  },
  "language_info": {
   "codemirror_mode": {
    "name": "ipython",
    "version": 3
   },
   "file_extension": ".py",
   "mimetype": "text/x-python",
   "name": "python",
   "nbconvert_exporter": "python",
   "pygments_lexer": "ipython3",
   "version": "3.6.5"
  }
 },
 "nbformat": 4,
 "nbformat_minor": 2
}
